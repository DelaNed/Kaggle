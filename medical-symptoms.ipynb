{
 "cells": [
  {
   "cell_type": "markdown",
   "id": "a9db72bf",
   "metadata": {
    "papermill": {
     "duration": 0.01718,
     "end_time": "2022-02-22T10:06:15.912196",
     "exception": false,
     "start_time": "2022-02-22T10:06:15.895016",
     "status": "completed"
    },
    "tags": []
   },
   "source": [
    "## Environment setup"
   ]
  },
  {
   "cell_type": "code",
   "execution_count": 1,
   "id": "4ef50a52",
   "metadata": {
    "_cell_guid": "b1076dfc-b9ad-4769-8c92-a6c4dae69d19",
    "_uuid": "8f2839f25d086af736a60e9eeb907d3b93b6e0e5",
    "execution": {
     "iopub.execute_input": "2022-02-22T10:06:15.961179Z",
     "iopub.status.busy": "2022-02-22T10:06:15.951141Z",
     "iopub.status.idle": "2022-02-22T10:06:17.231751Z",
     "shell.execute_reply": "2022-02-22T10:06:17.230589Z",
     "shell.execute_reply.started": "2022-02-22T09:50:19.334164Z"
    },
    "papermill": {
     "duration": 1.303491,
     "end_time": "2022-02-22T10:06:17.231985",
     "exception": false,
     "start_time": "2022-02-22T10:06:15.928494",
     "status": "completed"
    },
    "scrolled": true,
    "tags": []
   },
   "outputs": [],
   "source": [
    "import numpy as np \n",
    "import pandas as pd \n",
    "import os\n",
    "from sklearn import preprocessing\n",
    "from sklearn.feature_extraction.text import CountVectorizer\n",
    "from sklearn.model_selection import train_test_split\n",
    "from sklearn.pipeline import Pipeline\n",
    "from sklearn.feature_extraction.text import TfidfVectorizer\n",
    "from sklearn.svm import LinearSVC\n",
    "from sklearn.naive_bayes import MultinomialNB\n",
    "from sklearn.metrics import classification_report,plot_confusion_matrix\n",
    "import matplotlib.pyplot as plt\n",
    "import pickle\n"
   ]
  },
  {
   "cell_type": "markdown",
   "id": "dcd3ae95",
   "metadata": {
    "papermill": {
     "duration": 0.015508,
     "end_time": "2022-02-22T10:06:17.265264",
     "exception": false,
     "start_time": "2022-02-22T10:06:17.249756",
     "status": "completed"
    },
    "tags": []
   },
   "source": [
    "## Load the data"
   ]
  },
  {
   "cell_type": "code",
   "execution_count": 2,
   "id": "a4145e0d",
   "metadata": {
    "execution": {
     "iopub.execute_input": "2022-02-22T10:06:17.303704Z",
     "iopub.status.busy": "2022-02-22T10:06:17.302980Z",
     "iopub.status.idle": "2022-02-22T10:06:17.374406Z",
     "shell.execute_reply": "2022-02-22T10:06:17.374993Z",
     "shell.execute_reply.started": "2022-02-22T09:50:20.599628Z"
    },
    "papermill": {
     "duration": 0.09378,
     "end_time": "2022-02-22T10:06:17.375175",
     "exception": false,
     "start_time": "2022-02-22T10:06:17.281395",
     "status": "completed"
    },
    "tags": []
   },
   "outputs": [
    {
     "name": "stdout",
     "output_type": "stream",
     "text": [
      "Data shape:  (6661, 13)\n"
     ]
    }
   ],
   "source": [
    "df = pd.read_csv(\"../input/medical-speech-transcription-and-intent/Medical Speech, Transcription, and Intent/overview-of-recordings.csv\")\n",
    "print('Data shape: ',df.shape)"
   ]
  },
  {
   "cell_type": "code",
   "execution_count": 3,
   "id": "7c195946",
   "metadata": {
    "execution": {
     "iopub.execute_input": "2022-02-22T10:06:17.430098Z",
     "iopub.status.busy": "2022-02-22T10:06:17.420407Z",
     "iopub.status.idle": "2022-02-22T10:06:17.464413Z",
     "shell.execute_reply": "2022-02-22T10:06:17.464963Z",
     "shell.execute_reply.started": "2022-02-22T09:50:20.677742Z"
    },
    "papermill": {
     "duration": 0.073268,
     "end_time": "2022-02-22T10:06:17.465147",
     "exception": false,
     "start_time": "2022-02-22T10:06:17.391879",
     "status": "completed"
    },
    "tags": []
   },
   "outputs": [
    {
     "data": {
      "text/html": [
       "<div>\n",
       "<style scoped>\n",
       "    .dataframe tbody tr th:only-of-type {\n",
       "        vertical-align: middle;\n",
       "    }\n",
       "\n",
       "    .dataframe tbody tr th {\n",
       "        vertical-align: top;\n",
       "    }\n",
       "\n",
       "    .dataframe thead th {\n",
       "        text-align: right;\n",
       "    }\n",
       "</style>\n",
       "<table border=\"1\" class=\"dataframe\">\n",
       "  <thead>\n",
       "    <tr style=\"text-align: right;\">\n",
       "      <th></th>\n",
       "      <th>audio_clipping:confidence</th>\n",
       "      <th>background_noise_audible:confidence</th>\n",
       "      <th>overall_quality_of_the_audio</th>\n",
       "      <th>quiet_speaker:confidence</th>\n",
       "      <th>speaker_id</th>\n",
       "      <th>writer_id</th>\n",
       "    </tr>\n",
       "  </thead>\n",
       "  <tbody>\n",
       "    <tr>\n",
       "      <th>count</th>\n",
       "      <td>6661.000000</td>\n",
       "      <td>6661.000000</td>\n",
       "      <td>6661.000000</td>\n",
       "      <td>6661.000000</td>\n",
       "      <td>6.661000e+03</td>\n",
       "      <td>6.661000e+03</td>\n",
       "    </tr>\n",
       "    <tr>\n",
       "      <th>mean</th>\n",
       "      <td>0.984625</td>\n",
       "      <td>0.854320</td>\n",
       "      <td>3.678268</td>\n",
       "      <td>0.984594</td>\n",
       "      <td>3.664962e+07</td>\n",
       "      <td>3.596655e+07</td>\n",
       "    </tr>\n",
       "    <tr>\n",
       "      <th>std</th>\n",
       "      <td>0.070909</td>\n",
       "      <td>0.165967</td>\n",
       "      <td>0.378536</td>\n",
       "      <td>0.069719</td>\n",
       "      <td>1.029919e+07</td>\n",
       "      <td>1.341818e+07</td>\n",
       "    </tr>\n",
       "    <tr>\n",
       "      <th>min</th>\n",
       "      <td>0.337800</td>\n",
       "      <td>0.336300</td>\n",
       "      <td>3.000000</td>\n",
       "      <td>0.342300</td>\n",
       "      <td>1.853182e+06</td>\n",
       "      <td>1.883056e+06</td>\n",
       "    </tr>\n",
       "    <tr>\n",
       "      <th>25%</th>\n",
       "      <td>1.000000</td>\n",
       "      <td>0.671100</td>\n",
       "      <td>3.330000</td>\n",
       "      <td>1.000000</td>\n",
       "      <td>3.482490e+07</td>\n",
       "      <td>3.498746e+07</td>\n",
       "    </tr>\n",
       "    <tr>\n",
       "      <th>50%</th>\n",
       "      <td>1.000000</td>\n",
       "      <td>1.000000</td>\n",
       "      <td>3.670000</td>\n",
       "      <td>1.000000</td>\n",
       "      <td>4.120334e+07</td>\n",
       "      <td>4.375503e+07</td>\n",
       "    </tr>\n",
       "    <tr>\n",
       "      <th>75%</th>\n",
       "      <td>1.000000</td>\n",
       "      <td>1.000000</td>\n",
       "      <td>4.000000</td>\n",
       "      <td>1.000000</td>\n",
       "      <td>4.385622e+07</td>\n",
       "      <td>4.411874e+07</td>\n",
       "    </tr>\n",
       "    <tr>\n",
       "      <th>max</th>\n",
       "      <td>1.000000</td>\n",
       "      <td>1.000000</td>\n",
       "      <td>5.000000</td>\n",
       "      <td>1.000000</td>\n",
       "      <td>4.444235e+07</td>\n",
       "      <td>4.434011e+07</td>\n",
       "    </tr>\n",
       "  </tbody>\n",
       "</table>\n",
       "</div>"
      ],
      "text/plain": [
       "       audio_clipping:confidence  background_noise_audible:confidence  \\\n",
       "count                6661.000000                          6661.000000   \n",
       "mean                    0.984625                             0.854320   \n",
       "std                     0.070909                             0.165967   \n",
       "min                     0.337800                             0.336300   \n",
       "25%                     1.000000                             0.671100   \n",
       "50%                     1.000000                             1.000000   \n",
       "75%                     1.000000                             1.000000   \n",
       "max                     1.000000                             1.000000   \n",
       "\n",
       "       overall_quality_of_the_audio  quiet_speaker:confidence    speaker_id  \\\n",
       "count                   6661.000000               6661.000000  6.661000e+03   \n",
       "mean                       3.678268                  0.984594  3.664962e+07   \n",
       "std                        0.378536                  0.069719  1.029919e+07   \n",
       "min                        3.000000                  0.342300  1.853182e+06   \n",
       "25%                        3.330000                  1.000000  3.482490e+07   \n",
       "50%                        3.670000                  1.000000  4.120334e+07   \n",
       "75%                        4.000000                  1.000000  4.385622e+07   \n",
       "max                        5.000000                  1.000000  4.444235e+07   \n",
       "\n",
       "          writer_id  \n",
       "count  6.661000e+03  \n",
       "mean   3.596655e+07  \n",
       "std    1.341818e+07  \n",
       "min    1.883056e+06  \n",
       "25%    3.498746e+07  \n",
       "50%    4.375503e+07  \n",
       "75%    4.411874e+07  \n",
       "max    4.434011e+07  "
      ]
     },
     "execution_count": 3,
     "metadata": {},
     "output_type": "execute_result"
    }
   ],
   "source": [
    "# dataset summary\n",
    "df.describe()"
   ]
  },
  {
   "cell_type": "code",
   "execution_count": 4,
   "id": "944339b8",
   "metadata": {
    "execution": {
     "iopub.execute_input": "2022-02-22T10:06:17.518708Z",
     "iopub.status.busy": "2022-02-22T10:06:17.517965Z",
     "iopub.status.idle": "2022-02-22T10:06:17.521722Z",
     "shell.execute_reply": "2022-02-22T10:06:17.521120Z",
     "shell.execute_reply.started": "2022-02-22T09:50:20.731863Z"
    },
    "papermill": {
     "duration": 0.040106,
     "end_time": "2022-02-22T10:06:17.521892",
     "exception": false,
     "start_time": "2022-02-22T10:06:17.481786",
     "status": "completed"
    },
    "tags": []
   },
   "outputs": [
    {
     "data": {
      "text/html": [
       "<div>\n",
       "<style scoped>\n",
       "    .dataframe tbody tr th:only-of-type {\n",
       "        vertical-align: middle;\n",
       "    }\n",
       "\n",
       "    .dataframe tbody tr th {\n",
       "        vertical-align: top;\n",
       "    }\n",
       "\n",
       "    .dataframe thead th {\n",
       "        text-align: right;\n",
       "    }\n",
       "</style>\n",
       "<table border=\"1\" class=\"dataframe\">\n",
       "  <thead>\n",
       "    <tr style=\"text-align: right;\">\n",
       "      <th></th>\n",
       "      <th>audio_clipping</th>\n",
       "      <th>audio_clipping:confidence</th>\n",
       "      <th>background_noise_audible</th>\n",
       "      <th>background_noise_audible:confidence</th>\n",
       "      <th>overall_quality_of_the_audio</th>\n",
       "      <th>quiet_speaker</th>\n",
       "      <th>quiet_speaker:confidence</th>\n",
       "      <th>speaker_id</th>\n",
       "      <th>file_download</th>\n",
       "      <th>file_name</th>\n",
       "      <th>phrase</th>\n",
       "      <th>prompt</th>\n",
       "      <th>writer_id</th>\n",
       "    </tr>\n",
       "  </thead>\n",
       "  <tbody>\n",
       "    <tr>\n",
       "      <th>5265</th>\n",
       "      <td>no_clipping</td>\n",
       "      <td>1.0</td>\n",
       "      <td>no_noise</td>\n",
       "      <td>1.0</td>\n",
       "      <td>4.0</td>\n",
       "      <td>audible_speaker</td>\n",
       "      <td>1.0</td>\n",
       "      <td>28006404</td>\n",
       "      <td>https://ml.sandbox.cf3.us/cgi-bin/index.cgi?do...</td>\n",
       "      <td>1249120_28006404_28326999.wav</td>\n",
       "      <td>I feel joint pain every time I move</td>\n",
       "      <td>Joint pain</td>\n",
       "      <td>43985758</td>\n",
       "    </tr>\n",
       "    <tr>\n",
       "      <th>3315</th>\n",
       "      <td>no_clipping</td>\n",
       "      <td>1.0</td>\n",
       "      <td>no_noise</td>\n",
       "      <td>1.0</td>\n",
       "      <td>3.0</td>\n",
       "      <td>audible_speaker</td>\n",
       "      <td>1.0</td>\n",
       "      <td>43883861</td>\n",
       "      <td>https://ml.sandbox.cf3.us/cgi-bin/index.cgi?do...</td>\n",
       "      <td>1249120_43883861_53191362.wav</td>\n",
       "      <td>I have a cut that has become red and oozes puss.</td>\n",
       "      <td>Infected wound</td>\n",
       "      <td>42082009</td>\n",
       "    </tr>\n",
       "  </tbody>\n",
       "</table>\n",
       "</div>"
      ],
      "text/plain": [
       "     audio_clipping  audio_clipping:confidence background_noise_audible  \\\n",
       "5265    no_clipping                        1.0                 no_noise   \n",
       "3315    no_clipping                        1.0                 no_noise   \n",
       "\n",
       "      background_noise_audible:confidence  overall_quality_of_the_audio  \\\n",
       "5265                                  1.0                           4.0   \n",
       "3315                                  1.0                           3.0   \n",
       "\n",
       "        quiet_speaker  quiet_speaker:confidence  speaker_id  \\\n",
       "5265  audible_speaker                       1.0    28006404   \n",
       "3315  audible_speaker                       1.0    43883861   \n",
       "\n",
       "                                          file_download  \\\n",
       "5265  https://ml.sandbox.cf3.us/cgi-bin/index.cgi?do...   \n",
       "3315  https://ml.sandbox.cf3.us/cgi-bin/index.cgi?do...   \n",
       "\n",
       "                          file_name  \\\n",
       "5265  1249120_28006404_28326999.wav   \n",
       "3315  1249120_43883861_53191362.wav   \n",
       "\n",
       "                                                phrase          prompt  \\\n",
       "5265               I feel joint pain every time I move      Joint pain   \n",
       "3315  I have a cut that has become red and oozes puss.  Infected wound   \n",
       "\n",
       "      writer_id  \n",
       "5265   43985758  \n",
       "3315   42082009  "
      ]
     },
     "execution_count": 4,
     "metadata": {},
     "output_type": "execute_result"
    }
   ],
   "source": [
    "# check sample of dataset\n",
    "df.sample(2, random_state=42)"
   ]
  },
  {
   "cell_type": "code",
   "execution_count": 5,
   "id": "590d30bd",
   "metadata": {
    "execution": {
     "iopub.execute_input": "2022-02-22T10:06:17.568163Z",
     "iopub.status.busy": "2022-02-22T10:06:17.567421Z",
     "iopub.status.idle": "2022-02-22T10:06:17.576195Z",
     "shell.execute_reply": "2022-02-22T10:06:17.575556Z",
     "shell.execute_reply.started": "2022-02-22T09:50:20.754694Z"
    },
    "papermill": {
     "duration": 0.037081,
     "end_time": "2022-02-22T10:06:17.576353",
     "exception": false,
     "start_time": "2022-02-22T10:06:17.539272",
     "status": "completed"
    },
    "tags": []
   },
   "outputs": [
    {
     "data": {
      "text/plain": [
       "audio_clipping                         0\n",
       "audio_clipping:confidence              0\n",
       "background_noise_audible               0\n",
       "background_noise_audible:confidence    0\n",
       "overall_quality_of_the_audio           0\n",
       "quiet_speaker                          0\n",
       "quiet_speaker:confidence               0\n",
       "speaker_id                             0\n",
       "file_download                          0\n",
       "file_name                              0\n",
       "phrase                                 0\n",
       "prompt                                 0\n",
       "writer_id                              0\n",
       "dtype: int64"
      ]
     },
     "execution_count": 5,
     "metadata": {},
     "output_type": "execute_result"
    }
   ],
   "source": [
    "# check for missing values in dataset\n",
    "df.isnull().sum()"
   ]
  },
  {
   "cell_type": "code",
   "execution_count": 6,
   "id": "e2b658d1",
   "metadata": {
    "execution": {
     "iopub.execute_input": "2022-02-22T10:06:17.623313Z",
     "iopub.status.busy": "2022-02-22T10:06:17.622412Z",
     "iopub.status.idle": "2022-02-22T10:06:17.626356Z",
     "shell.execute_reply": "2022-02-22T10:06:17.625584Z",
     "shell.execute_reply.started": "2022-02-22T09:58:51.518138Z"
    },
    "papermill": {
     "duration": 0.03173,
     "end_time": "2022-02-22T10:06:17.626495",
     "exception": false,
     "start_time": "2022-02-22T10:06:17.594765",
     "status": "completed"
    },
    "tags": []
   },
   "outputs": [
    {
     "data": {
      "text/plain": [
       "Acne                  328\n",
       "Shoulder pain         320\n",
       "Joint pain            318\n",
       "Infected wound        306\n",
       "Knee pain             305\n",
       "Cough                 293\n",
       "Feeling dizzy         283\n",
       "Muscle pain           282\n",
       "Heart hurts           273\n",
       "Ear ache              270\n",
       "Hair falling out      264\n",
       "Head ache             263\n",
       "Feeling cold          263\n",
       "Skin issue            262\n",
       "Stomach ache          261\n",
       "Back pain             259\n",
       "Neck pain             251\n",
       "Internal pain         248\n",
       "Blurry vision         246\n",
       "Body feels weak       241\n",
       "Hard to breath        233\n",
       "Emotional pain        231\n",
       "Injury from sports    230\n",
       "Foot ache             223\n",
       "Open wound            208\n",
       "Name: prompt, dtype: int64"
      ]
     },
     "execution_count": 6,
     "metadata": {},
     "output_type": "execute_result"
    }
   ],
   "source": [
    "# check distribution of classes and look for imbalance classes\n",
    "df['prompt'].value_counts()"
   ]
  },
  {
   "cell_type": "markdown",
   "id": "d365c2cd",
   "metadata": {
    "papermill": {
     "duration": 0.017776,
     "end_time": "2022-02-22T10:06:17.662693",
     "exception": false,
     "start_time": "2022-02-22T10:06:17.644917",
     "status": "completed"
    },
    "tags": []
   },
   "source": [
    "## Train model"
   ]
  },
  {
   "cell_type": "code",
   "execution_count": 7,
   "id": "b8b4f4f6",
   "metadata": {
    "execution": {
     "iopub.execute_input": "2022-02-22T10:06:17.711602Z",
     "iopub.status.busy": "2022-02-22T10:06:17.710597Z",
     "iopub.status.idle": "2022-02-22T10:06:17.723188Z",
     "shell.execute_reply": "2022-02-22T10:06:17.722595Z",
     "shell.execute_reply.started": "2022-02-22T09:52:52.363406Z"
    },
    "papermill": {
     "duration": 0.042615,
     "end_time": "2022-02-22T10:06:17.723352",
     "exception": false,
     "start_time": "2022-02-22T10:06:17.680737",
     "status": "completed"
    },
    "tags": []
   },
   "outputs": [],
   "source": [
    "# split data to trainset and testset\n",
    "# input is the text of symptoms and output is the disease\n",
    "\n",
    "X = df['phrase']\n",
    "y = df['prompt']\n",
    "\n",
    "X_train, X_test, y_train, y_test = train_test_split(X, y, test_size=0.2, random_state=42, stratify=y)"
   ]
  },
  {
   "cell_type": "code",
   "execution_count": 8,
   "id": "716a7203",
   "metadata": {
    "execution": {
     "iopub.execute_input": "2022-02-22T10:06:17.769733Z",
     "iopub.status.busy": "2022-02-22T10:06:17.768675Z",
     "iopub.status.idle": "2022-02-22T10:06:18.026173Z",
     "shell.execute_reply": "2022-02-22T10:06:18.025429Z",
     "shell.execute_reply.started": "2022-02-22T09:53:50.056547Z"
    },
    "papermill": {
     "duration": 0.284885,
     "end_time": "2022-02-22T10:06:18.026367",
     "exception": false,
     "start_time": "2022-02-22T10:06:17.741482",
     "status": "completed"
    },
    "tags": []
   },
   "outputs": [
    {
     "data": {
      "text/plain": [
       "Pipeline(steps=[('tfidf', TfidfVectorizer()), ('svc', LinearSVC())])"
      ]
     },
     "execution_count": 8,
     "metadata": {},
     "output_type": "execute_result"
    }
   ],
   "source": [
    "# vectorize symptoms text and train SVM model\n",
    "pipe = Pipeline([('tfidf', TfidfVectorizer()),('svc', LinearSVC()),])\n",
    "# Feed the training data through the pipeline\n",
    "pipe.fit(X_train, y_train)  "
   ]
  },
  {
   "cell_type": "code",
   "execution_count": 9,
   "id": "fb05d5bf",
   "metadata": {
    "execution": {
     "iopub.execute_input": "2022-02-22T10:06:18.083654Z",
     "iopub.status.busy": "2022-02-22T10:06:18.078381Z",
     "iopub.status.idle": "2022-02-22T10:06:18.158540Z",
     "shell.execute_reply": "2022-02-22T10:06:18.157602Z",
     "shell.execute_reply.started": "2022-02-22T09:53:54.589518Z"
    },
    "papermill": {
     "duration": 0.113763,
     "end_time": "2022-02-22T10:06:18.158735",
     "exception": false,
     "start_time": "2022-02-22T10:06:18.044972",
     "status": "completed"
    },
    "tags": []
   },
   "outputs": [
    {
     "name": "stdout",
     "output_type": "stream",
     "text": [
      "                    precision    recall  f1-score   support\n",
      "\n",
      "              Acne       1.00      1.00      1.00        66\n",
      "         Back pain       1.00      1.00      1.00        52\n",
      "     Blurry vision       1.00      1.00      1.00        49\n",
      "   Body feels weak       1.00      0.98      0.99        48\n",
      "             Cough       1.00      1.00      1.00        59\n",
      "          Ear ache       1.00      1.00      1.00        54\n",
      "    Emotional pain       1.00      1.00      1.00        46\n",
      "      Feeling cold       1.00      1.00      1.00        53\n",
      "     Feeling dizzy       1.00      1.00      1.00        57\n",
      "         Foot ache       1.00      1.00      1.00        44\n",
      "  Hair falling out       0.98      1.00      0.99        53\n",
      "    Hard to breath       1.00      1.00      1.00        47\n",
      "         Head ache       1.00      1.00      1.00        53\n",
      "       Heart hurts       1.00      1.00      1.00        55\n",
      "    Infected wound       1.00      1.00      1.00        61\n",
      "Injury from sports       1.00      1.00      1.00        46\n",
      "     Internal pain       1.00      0.90      0.95        50\n",
      "        Joint pain       1.00      1.00      1.00        64\n",
      "         Knee pain       1.00      1.00      1.00        61\n",
      "       Muscle pain       1.00      1.00      1.00        56\n",
      "         Neck pain       1.00      1.00      1.00        50\n",
      "        Open wound       1.00      1.00      1.00        41\n",
      "     Shoulder pain       1.00      1.00      1.00        64\n",
      "        Skin issue       1.00      1.00      1.00        52\n",
      "      Stomach ache       0.91      1.00      0.95        52\n",
      "\n",
      "          accuracy                           1.00      1333\n",
      "         macro avg       1.00      1.00      1.00      1333\n",
      "      weighted avg       1.00      1.00      1.00      1333\n",
      "\n"
     ]
    }
   ],
   "source": [
    "# make predictions\n",
    "preds = pipe.predict(X_test)\n",
    "print(classification_report(y_test,preds))"
   ]
  },
  {
   "cell_type": "code",
   "execution_count": 10,
   "id": "8a7de9c6",
   "metadata": {
    "execution": {
     "iopub.execute_input": "2022-02-22T10:06:18.201164Z",
     "iopub.status.busy": "2022-02-22T10:06:18.200402Z",
     "iopub.status.idle": "2022-02-22T10:06:21.125574Z",
     "shell.execute_reply": "2022-02-22T10:06:21.126109Z",
     "shell.execute_reply.started": "2022-02-22T09:54:14.019437Z"
    },
    "papermill": {
     "duration": 2.947737,
     "end_time": "2022-02-22T10:06:21.126290",
     "exception": false,
     "start_time": "2022-02-22T10:06:18.178553",
     "status": "completed"
    },
    "tags": []
   },
   "outputs": [
    {
     "data": {
      "text/plain": [
       "(array([ 0,  1,  2,  3,  4,  5,  6,  7,  8,  9, 10, 11, 12, 13, 14, 15, 16,\n",
       "        17, 18, 19, 20, 21, 22, 23, 24]),\n",
       " [Text(0, 0, 'Acne'),\n",
       "  Text(1, 0, 'Back pain'),\n",
       "  Text(2, 0, 'Blurry vision'),\n",
       "  Text(3, 0, 'Body feels weak'),\n",
       "  Text(4, 0, 'Cough'),\n",
       "  Text(5, 0, 'Ear ache'),\n",
       "  Text(6, 0, 'Emotional pain'),\n",
       "  Text(7, 0, 'Feeling cold'),\n",
       "  Text(8, 0, 'Feeling dizzy'),\n",
       "  Text(9, 0, 'Foot ache'),\n",
       "  Text(10, 0, 'Hair falling out'),\n",
       "  Text(11, 0, 'Hard to breath'),\n",
       "  Text(12, 0, 'Head ache'),\n",
       "  Text(13, 0, 'Heart hurts'),\n",
       "  Text(14, 0, 'Infected wound'),\n",
       "  Text(15, 0, 'Injury from sports'),\n",
       "  Text(16, 0, 'Internal pain'),\n",
       "  Text(17, 0, 'Joint pain'),\n",
       "  Text(18, 0, 'Knee pain'),\n",
       "  Text(19, 0, 'Muscle pain'),\n",
       "  Text(20, 0, 'Neck pain'),\n",
       "  Text(21, 0, 'Open wound'),\n",
       "  Text(22, 0, 'Shoulder pain'),\n",
       "  Text(23, 0, 'Skin issue'),\n",
       "  Text(24, 0, 'Stomach ache')])"
      ]
     },
     "execution_count": 10,
     "metadata": {},
     "output_type": "execute_result"
    },
    {
     "data": {
      "image/png": "[encoded data removed]",
      "text/plain": [
       "<Figure size 576x576 with 2 Axes>"
      ]
     },
     "metadata": {
      "needs_background": "light"
     },
     "output_type": "display_data"
    }
   ],
   "source": [
    "fig, ax = plt.subplots(figsize=(8, 8))\n",
    "plot_confusion_matrix(pipe, X_test, y_test, ax=ax)\n",
    "plt.xticks(rotation=90)"
   ]
  },
  {
   "cell_type": "code",
   "execution_count": 11,
   "id": "86955152",
   "metadata": {
    "execution": {
     "iopub.execute_input": "2022-02-22T10:06:21.172200Z",
     "iopub.status.busy": "2022-02-22T10:06:21.171524Z",
     "iopub.status.idle": "2022-02-22T10:06:21.178120Z",
     "shell.execute_reply": "2022-02-22T10:06:21.178625Z",
     "shell.execute_reply.started": "2022-02-22T09:56:10.189902Z"
    },
    "papermill": {
     "duration": 0.031314,
     "end_time": "2022-02-22T10:06:21.178818",
     "exception": false,
     "start_time": "2022-02-22T10:06:21.147504",
     "status": "completed"
    },
    "tags": []
   },
   "outputs": [
    {
     "data": {
      "text/plain": [
       "array(['Internal pain'], dtype=object)"
      ]
     },
     "execution_count": 11,
     "metadata": {},
     "output_type": "execute_result"
    }
   ],
   "source": [
    "# classify random text\n",
    "pipe.predict(['I have a pain in my stomache'])"
   ]
  },
  {
   "cell_type": "code",
   "execution_count": 12,
   "id": "c5db7f77",
   "metadata": {
    "execution": {
     "iopub.execute_input": "2022-02-22T10:06:21.245768Z",
     "iopub.status.busy": "2022-02-22T10:06:21.240680Z",
     "iopub.status.idle": "2022-02-22T10:06:21.542746Z",
     "shell.execute_reply": "2022-02-22T10:06:21.542201Z",
     "shell.execute_reply.started": "2022-02-22T09:56:48.220442Z"
    },
    "papermill": {
     "duration": 0.342732,
     "end_time": "2022-02-22T10:06:21.543028",
     "exception": false,
     "start_time": "2022-02-22T10:06:21.200296",
     "status": "completed"
    },
    "tags": []
   },
   "outputs": [
    {
     "data": {
      "text/plain": [
       "Pipeline(steps=[('tfidf', TfidfVectorizer()), ('svc', LinearSVC())])"
      ]
     },
     "execution_count": 12,
     "metadata": {},
     "output_type": "execute_result"
    }
   ],
   "source": [
    "# train model on the whole dataset\n",
    "final_pipe = Pipeline([('tfidf', TfidfVectorizer()),('svc', LinearSVC()),])\n",
    "# Feed the training data through the pipeline\n",
    "final_pipe.fit(X, y)  "
   ]
  },
  {
   "cell_type": "code",
   "execution_count": 13,
   "id": "32a1e47e",
   "metadata": {
    "execution": {
     "iopub.execute_input": "2022-02-22T10:06:21.591241Z",
     "iopub.status.busy": "2022-02-22T10:06:21.590482Z",
     "iopub.status.idle": "2022-02-22T10:06:21.597816Z",
     "shell.execute_reply": "2022-02-22T10:06:21.598399Z",
     "shell.execute_reply.started": "2022-02-22T09:56:48.702005Z"
    },
    "papermill": {
     "duration": 0.032621,
     "end_time": "2022-02-22T10:06:21.598573",
     "exception": false,
     "start_time": "2022-02-22T10:06:21.565952",
     "status": "completed"
    },
    "tags": []
   },
   "outputs": [
    {
     "data": {
      "text/plain": [
       "array(['Knee pain', 'Stomach ache'], dtype=object)"
      ]
     },
     "execution_count": 13,
     "metadata": {},
     "output_type": "execute_result"
    }
   ],
   "source": [
    "# check the final model on random text\n",
    "data = np.array(['i was playing vollyball and now my knee hurts so bad', 'i feel funny in my stomach'])\n",
    "ser = pd.Series(data)\n",
    "preds = final_pipe.predict(ser)\n",
    "preds"
   ]
  },
  {
   "cell_type": "code",
   "execution_count": 14,
   "id": "abea5bdd",
   "metadata": {
    "execution": {
     "iopub.execute_input": "2022-02-22T10:06:21.646132Z",
     "iopub.status.busy": "2022-02-22T10:06:21.645488Z",
     "iopub.status.idle": "2022-02-22T10:06:21.650138Z",
     "shell.execute_reply": "2022-02-22T10:06:21.650624Z",
     "shell.execute_reply.started": "2022-02-22T09:57:36.260752Z"
    },
    "papermill": {
     "duration": 0.030187,
     "end_time": "2022-02-22T10:06:21.650812",
     "exception": false,
     "start_time": "2022-02-22T10:06:21.620625",
     "status": "completed"
    },
    "tags": []
   },
   "outputs": [],
   "source": [
    "# Save the Modle to file in the current working directory\n",
    "\n",
    "Pkl_Filename = \"model.pkl\"  \n",
    "\n",
    "with open(Pkl_Filename, 'wb') as file:  \n",
    "    pickle.dump(final_pipe, file)"
   ]
  },
  {
   "cell_type": "code",
   "execution_count": 15,
   "id": "dae0095d",
   "metadata": {
    "execution": {
     "iopub.execute_input": "2022-02-22T10:06:21.699377Z",
     "iopub.status.busy": "2022-02-22T10:06:21.698672Z",
     "iopub.status.idle": "2022-02-22T10:06:21.706015Z",
     "shell.execute_reply": "2022-02-22T10:06:21.706507Z",
     "shell.execute_reply.started": "2022-02-22T09:57:37.169098Z"
    },
    "papermill": {
     "duration": 0.033052,
     "end_time": "2022-02-22T10:06:21.706689",
     "exception": false,
     "start_time": "2022-02-22T10:06:21.673637",
     "status": "completed"
    },
    "tags": []
   },
   "outputs": [
    {
     "data": {
      "text/plain": [
       "Pipeline(steps=[('tfidf', TfidfVectorizer()), ('svc', LinearSVC())])"
      ]
     },
     "execution_count": 15,
     "metadata": {},
     "output_type": "execute_result"
    }
   ],
   "source": [
    "# Load the Model back from file\n",
    "\n",
    "with open(Pkl_Filename, 'rb') as file:  \n",
    "    my_model = pickle.load(file)\n",
    "\n",
    "my_model"
   ]
  },
  {
   "cell_type": "code",
   "execution_count": 16,
   "id": "5fde961c",
   "metadata": {
    "execution": {
     "iopub.execute_input": "2022-02-22T10:06:21.755661Z",
     "iopub.status.busy": "2022-02-22T10:06:21.755031Z",
     "iopub.status.idle": "2022-02-22T10:06:21.761074Z",
     "shell.execute_reply": "2022-02-22T10:06:21.761620Z",
     "shell.execute_reply.started": "2022-02-22T09:57:40.626797Z"
    },
    "papermill": {
     "duration": 0.032652,
     "end_time": "2022-02-22T10:06:21.761787",
     "exception": false,
     "start_time": "2022-02-22T10:06:21.729135",
     "status": "completed"
    },
    "tags": []
   },
   "outputs": [
    {
     "data": {
      "text/plain": [
       "array(['Knee pain', 'Stomach ache'], dtype=object)"
      ]
     },
     "execution_count": 16,
     "metadata": {},
     "output_type": "execute_result"
    }
   ],
   "source": [
    "# make prediction on random text\n",
    "my_model.predict(ser)"
   ]
  },
  {
   "cell_type": "code",
   "execution_count": null,
   "id": "a2ffec5d",
   "metadata": {
    "papermill": {
     "duration": 0.022956,
     "end_time": "2022-02-22T10:06:21.807879",
     "exception": false,
     "start_time": "2022-02-22T10:06:21.784923",
     "status": "completed"
    },
    "tags": []
   },
   "outputs": [],
   "source": []
  }
 ],
 "metadata": {
  "kernelspec": {
   "display_name": "Python 3",
   "language": "python",
   "name": "python3"
  },
  "language_info": {
   "codemirror_mode": {
    "name": "ipython",
    "version": 3
   },
   "file_extension": ".py",
   "mimetype": "text/x-python",
   "name": "python",
   "nbconvert_exporter": "python",
   "pygments_lexer": "ipython3",
   "version": "3.7.12"
  },
  "papermill": {
   "default_parameters": {},
   "duration": 17.873679,
   "end_time": "2022-02-22T10:06:22.541322",
   "environment_variables": {},
   "exception": null,
   "input_path": "__notebook__.ipynb",
   "output_path": "__notebook__.ipynb",
   "parameters": {},
   "start_time": "2022-02-22T10:06:04.667643",
   "version": "2.3.3"
  }
 },
 "nbformat": 4,
 "nbformat_minor": 5
}
