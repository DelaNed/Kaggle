{
 "cells": [
  {
   "cell_type": "code",
   "execution_count": 1,
   "id": "e50ec385",
   "metadata": {
    "execution": {
     "iopub.execute_input": "2022-03-11T07:16:42.162496Z",
     "iopub.status.busy": "2022-03-11T07:16:42.159152Z",
     "iopub.status.idle": "2022-03-11T07:16:43.266061Z",
     "shell.execute_reply": "2022-03-11T07:16:43.266632Z",
     "shell.execute_reply.started": "2022-03-11T07:08:53.389395Z"
    },
    "papermill": {
     "duration": 1.159996,
     "end_time": "2022-03-11T07:16:43.266937",
     "exception": false,
     "start_time": "2022-03-11T07:16:42.106941",
     "status": "completed"
    },
    "tags": []
   },
   "outputs": [],
   "source": [
    "import numpy as np\n",
    "import pandas as pd\n",
    "import pickle\n",
    "from tqdm.notebook import tqdm\n",
    "tqdm.pandas()\n",
    "\n",
    "from pathlib import Path\n",
    "\n",
    "import lightfm\n",
    "from lightfm import LightFM\n",
    "from lightfm.data import Dataset\n",
    "from lightfm import cross_validation\n",
    "from lightfm.evaluation import precision_at_k, recall_at_k, auc_score\n",
    "\n",
    "# import recmetrics\n",
    "\n",
    "import warnings\n",
    "warnings.simplefilter(action='ignore', category=FutureWarning)"
   ]
  },
  {
   "cell_type": "code",
   "execution_count": 2,
   "id": "472bbdc6",
   "metadata": {
    "execution": {
     "iopub.execute_input": "2022-03-11T07:16:43.363204Z",
     "iopub.status.busy": "2022-03-11T07:16:43.362525Z",
     "iopub.status.idle": "2022-03-11T07:18:09.243865Z",
     "shell.execute_reply": "2022-03-11T07:18:09.243247Z",
     "shell.execute_reply.started": "2022-03-11T07:08:54.766165Z"
    },
    "papermill": {
     "duration": 85.925784,
     "end_time": "2022-03-11T07:18:09.244057",
     "exception": false,
     "start_time": "2022-03-11T07:16:43.318273",
     "status": "completed"
    },
    "tags": []
   },
   "outputs": [],
   "source": [
    "main_dir = \"../input/h-and-m-personalized-fashion-recommendations\"\n",
    "images_dir = main_dir+\"/images/\" \n",
    "customers = pd.read_csv(main_dir+\"/customers.csv\")\n",
    "articles = pd.read_csv(main_dir+\"/articles.csv\", dtype={'article_id': str})\n",
    "sample_submission = pd.read_csv(main_dir+\"/sample_submission.csv\", dtype={'article_id': str})\n",
    "\n",
    "train = pd.read_csv('../input/h-and-m-personalized-fashion-recommendations/transactions_train.csv',  \n",
    "                    dtype={'article_id': str}, parse_dates=['t_dat'],\n",
    "                   low_memory=True)"
   ]
  },
  {
   "cell_type": "code",
   "execution_count": 3,
   "id": "232b12f7",
   "metadata": {
    "execution": {
     "iopub.execute_input": "2022-03-11T07:18:11.366681Z",
     "iopub.status.busy": "2022-03-11T07:18:09.334128Z",
     "iopub.status.idle": "2022-03-11T07:18:21.493881Z",
     "shell.execute_reply": "2022-03-11T07:18:21.494439Z",
     "shell.execute_reply.started": "2022-03-11T07:10:27.616882Z"
    },
    "papermill": {
     "duration": 12.208205,
     "end_time": "2022-03-11T07:18:21.494627",
     "exception": false,
     "start_time": "2022-03-11T07:18:09.286422",
     "status": "completed"
    },
    "tags": []
   },
   "outputs": [
    {
     "data": {
      "text/plain": [
       "(104547, 1362281)"
      ]
     },
     "execution_count": 3,
     "metadata": {},
     "output_type": "execute_result"
    }
   ],
   "source": [
    "train['article_id'].nunique(), train['customer_id'].nunique()"
   ]
  },
  {
   "cell_type": "code",
   "execution_count": 4,
   "id": "d8b9fd6d",
   "metadata": {
    "execution": {
     "iopub.execute_input": "2022-03-11T07:18:30.093270Z",
     "iopub.status.busy": "2022-03-11T07:18:30.092073Z",
     "iopub.status.idle": "2022-03-11T07:18:39.162749Z",
     "shell.execute_reply": "2022-03-11T07:18:39.163218Z",
     "shell.execute_reply.started": "2022-03-11T07:10:40.978696Z"
    },
    "papermill": {
     "duration": 17.623541,
     "end_time": "2022-03-11T07:18:39.163403",
     "exception": false,
     "start_time": "2022-03-11T07:18:21.539862",
     "status": "completed"
    },
    "tags": []
   },
   "outputs": [
    {
     "data": {
      "text/plain": [
       "11293"
      ]
     },
     "execution_count": 4,
     "metadata": {},
     "output_type": "execute_result"
    }
   ],
   "source": [
    "top_customers = train['customer_id'].value_counts()[train['customer_id'].value_counts()>200].index.tolist()\n",
    "# top_customers = train['customer_id'].value_counts()[train['customer_id'].value_counts()>50].index.tolist()\n",
    "\n",
    "len(top_customers)"
   ]
  },
  {
   "cell_type": "code",
   "execution_count": 5,
   "id": "7ee87f2e",
   "metadata": {
    "execution": {
     "iopub.execute_input": "2022-03-11T07:18:39.250295Z",
     "iopub.status.busy": "2022-03-11T07:18:39.249667Z",
     "iopub.status.idle": "2022-03-11T07:18:44.041053Z",
     "shell.execute_reply": "2022-03-11T07:18:44.040479Z",
     "shell.execute_reply.started": "2022-03-11T07:11:00.668693Z"
    },
    "papermill": {
     "duration": 4.835529,
     "end_time": "2022-03-11T07:18:44.041199",
     "exception": false,
     "start_time": "2022-03-11T07:18:39.205670",
     "status": "completed"
    },
    "tags": []
   },
   "outputs": [
    {
     "data": {
      "text/plain": [
       "(3248790, 5)"
      ]
     },
     "execution_count": 5,
     "metadata": {},
     "output_type": "execute_result"
    }
   ],
   "source": [
    "df = train[train['customer_id'].isin(top_customers)]\n",
    "df.shape"
   ]
  },
  {
   "cell_type": "code",
   "execution_count": 6,
   "id": "69e89e58",
   "metadata": {
    "execution": {
     "iopub.execute_input": "2022-03-11T07:18:44.130131Z",
     "iopub.status.busy": "2022-03-11T07:18:44.129474Z",
     "iopub.status.idle": "2022-03-11T07:18:44.133658Z",
     "shell.execute_reply": "2022-03-11T07:18:44.134158Z",
     "shell.execute_reply.started": "2022-03-11T07:11:06.394134Z"
    },
    "papermill": {
     "duration": 0.050639,
     "end_time": "2022-03-11T07:18:44.134324",
     "exception": false,
     "start_time": "2022-03-11T07:18:44.083685",
     "status": "completed"
    },
    "tags": []
   },
   "outputs": [
    {
     "data": {
      "text/plain": [
       "(31788324, 5)"
      ]
     },
     "execution_count": 6,
     "metadata": {},
     "output_type": "execute_result"
    }
   ],
   "source": [
    "train.shape"
   ]
  },
  {
   "cell_type": "code",
   "execution_count": 7,
   "id": "61d0cca8",
   "metadata": {
    "execution": {
     "iopub.execute_input": "2022-03-11T07:18:44.230596Z",
     "iopub.status.busy": "2022-03-11T07:18:44.229712Z",
     "iopub.status.idle": "2022-03-11T07:19:00.017810Z",
     "shell.execute_reply": "2022-03-11T07:19:00.016918Z",
     "shell.execute_reply.started": "2022-03-11T07:11:06.403416Z"
    },
    "papermill": {
     "duration": 15.840462,
     "end_time": "2022-03-11T07:19:00.018015",
     "exception": false,
     "start_time": "2022-03-11T07:18:44.177553",
     "status": "completed"
    },
    "tags": []
   },
   "outputs": [
    {
     "name": "stdout",
     "output_type": "stream",
     "text": [
      "Series([], dtype: int64)\n",
      "FN                        895050\n",
      "Active                    907576\n",
      "club_member_status          6062\n",
      "fashion_news_frequency     16009\n",
      "age                        15861\n",
      "dtype: int64\n",
      "detail_desc    416\n",
      "dtype: int64\n"
     ]
    }
   ],
   "source": [
    "print(train.isna().sum()[train.isna().sum()>0],\n",
    "customers.isna().sum()[customers.isna().sum()>0],\n",
    "articles.isna().sum()[articles.isna().sum()>0], sep='\\n')"
   ]
  },
  {
   "cell_type": "code",
   "execution_count": 8,
   "id": "ce191a6e",
   "metadata": {
    "execution": {
     "iopub.execute_input": "2022-03-11T07:19:00.112083Z",
     "iopub.status.busy": "2022-03-11T07:19:00.111350Z",
     "iopub.status.idle": "2022-03-11T07:19:00.114668Z",
     "shell.execute_reply": "2022-03-11T07:19:00.114068Z",
     "shell.execute_reply.started": "2022-03-11T07:11:22.329549Z"
    },
    "papermill": {
     "duration": 0.05273,
     "end_time": "2022-03-11T07:19:00.114802",
     "exception": false,
     "start_time": "2022-03-11T07:19:00.062072",
     "status": "completed"
    },
    "tags": []
   },
   "outputs": [
    {
     "data": {
      "text/plain": [
       "Index(['customer_id', 'FN', 'Active', 'club_member_status',\n",
       "       'fashion_news_frequency', 'age', 'postal_code'],\n",
       "      dtype='object')"
      ]
     },
     "execution_count": 8,
     "metadata": {},
     "output_type": "execute_result"
    }
   ],
   "source": [
    "customers.columns"
   ]
  },
  {
   "cell_type": "code",
   "execution_count": 9,
   "id": "27977d29",
   "metadata": {
    "execution": {
     "iopub.execute_input": "2022-03-11T07:19:00.223749Z",
     "iopub.status.busy": "2022-03-11T07:19:00.221144Z",
     "iopub.status.idle": "2022-03-11T07:19:00.227783Z",
     "shell.execute_reply": "2022-03-11T07:19:00.227284Z",
     "shell.execute_reply.started": "2022-03-11T07:11:22.337562Z"
    },
    "papermill": {
     "duration": 0.067984,
     "end_time": "2022-03-11T07:19:00.227921",
     "exception": false,
     "start_time": "2022-03-11T07:19:00.159937",
     "status": "completed"
    },
    "tags": []
   },
   "outputs": [
    {
     "data": {
      "text/plain": [
       "1.0    464404\n",
       "Name: Active, dtype: int64"
      ]
     },
     "execution_count": 9,
     "metadata": {},
     "output_type": "execute_result"
    }
   ],
   "source": [
    "customers['Active'].value_counts()"
   ]
  },
  {
   "cell_type": "code",
   "execution_count": 10,
   "id": "48b79861",
   "metadata": {
    "execution": {
     "iopub.execute_input": "2022-03-11T07:19:00.318374Z",
     "iopub.status.busy": "2022-03-11T07:19:00.317752Z",
     "iopub.status.idle": "2022-03-11T07:19:00.331686Z",
     "shell.execute_reply": "2022-03-11T07:19:00.332201Z",
     "shell.execute_reply.started": "2022-03-11T07:11:22.368964Z"
    },
    "papermill": {
     "duration": 0.06073,
     "end_time": "2022-03-11T07:19:00.332382",
     "exception": false,
     "start_time": "2022-03-11T07:19:00.271652",
     "status": "completed"
    },
    "tags": []
   },
   "outputs": [
    {
     "data": {
      "text/html": [
       "<div>\n",
       "<style scoped>\n",
       "    .dataframe tbody tr th:only-of-type {\n",
       "        vertical-align: middle;\n",
       "    }\n",
       "\n",
       "    .dataframe tbody tr th {\n",
       "        vertical-align: top;\n",
       "    }\n",
       "\n",
       "    .dataframe thead th {\n",
       "        text-align: right;\n",
       "    }\n",
       "</style>\n",
       "<table border=\"1\" class=\"dataframe\">\n",
       "  <thead>\n",
       "    <tr style=\"text-align: right;\">\n",
       "      <th></th>\n",
       "      <th>customer_id</th>\n",
       "      <th>prediction</th>\n",
       "    </tr>\n",
       "  </thead>\n",
       "  <tbody>\n",
       "    <tr>\n",
       "      <th>0</th>\n",
       "      <td>00000dbacae5abe5e23885899a1fa44253a17956c6d1c3...</td>\n",
       "      <td>0706016001 0706016002 0372860001 0610776002 07...</td>\n",
       "    </tr>\n",
       "    <tr>\n",
       "      <th>1</th>\n",
       "      <td>0000423b00ade91418cceaf3b26c6af3dd342b51fd051e...</td>\n",
       "      <td>0706016001 0706016002 0372860001 0610776002 07...</td>\n",
       "    </tr>\n",
       "    <tr>\n",
       "      <th>2</th>\n",
       "      <td>000058a12d5b43e67d225668fa1f8d618c13dc232df0ca...</td>\n",
       "      <td>0706016001 0706016002 0372860001 0610776002 07...</td>\n",
       "    </tr>\n",
       "    <tr>\n",
       "      <th>3</th>\n",
       "      <td>00005ca1c9ed5f5146b52ac8639a40ca9d57aeff4d1bd2...</td>\n",
       "      <td>0706016001 0706016002 0372860001 0610776002 07...</td>\n",
       "    </tr>\n",
       "    <tr>\n",
       "      <th>4</th>\n",
       "      <td>00006413d8573cd20ed7128e53b7b13819fe5cfc2d801f...</td>\n",
       "      <td>0706016001 0706016002 0372860001 0610776002 07...</td>\n",
       "    </tr>\n",
       "    <tr>\n",
       "      <th>...</th>\n",
       "      <td>...</td>\n",
       "      <td>...</td>\n",
       "    </tr>\n",
       "    <tr>\n",
       "      <th>1371975</th>\n",
       "      <td>ffffbbf78b6eaac697a8a5dfbfd2bfa8113ee5b403e474...</td>\n",
       "      <td>0706016001 0706016002 0372860001 0610776002 07...</td>\n",
       "    </tr>\n",
       "    <tr>\n",
       "      <th>1371976</th>\n",
       "      <td>ffffcd5046a6143d29a04fb8c424ce494a76e5cdf4fab5...</td>\n",
       "      <td>0706016001 0706016002 0372860001 0610776002 07...</td>\n",
       "    </tr>\n",
       "    <tr>\n",
       "      <th>1371977</th>\n",
       "      <td>ffffcf35913a0bee60e8741cb2b4e78b8a98ee5ff2e6a1...</td>\n",
       "      <td>0706016001 0706016002 0372860001 0610776002 07...</td>\n",
       "    </tr>\n",
       "    <tr>\n",
       "      <th>1371978</th>\n",
       "      <td>ffffd7744cebcf3aca44ae7049d2a94b87074c3d4ffe38...</td>\n",
       "      <td>0706016001 0706016002 0372860001 0610776002 07...</td>\n",
       "    </tr>\n",
       "    <tr>\n",
       "      <th>1371979</th>\n",
       "      <td>ffffd9ac14e89946416d80e791d064701994755c3ab686...</td>\n",
       "      <td>0706016001 0706016002 0372860001 0610776002 07...</td>\n",
       "    </tr>\n",
       "  </tbody>\n",
       "</table>\n",
       "<p>1371980 rows × 2 columns</p>\n",
       "</div>"
      ],
      "text/plain": [
       "                                               customer_id  \\\n",
       "0        00000dbacae5abe5e23885899a1fa44253a17956c6d1c3...   \n",
       "1        0000423b00ade91418cceaf3b26c6af3dd342b51fd051e...   \n",
       "2        000058a12d5b43e67d225668fa1f8d618c13dc232df0ca...   \n",
       "3        00005ca1c9ed5f5146b52ac8639a40ca9d57aeff4d1bd2...   \n",
       "4        00006413d8573cd20ed7128e53b7b13819fe5cfc2d801f...   \n",
       "...                                                    ...   \n",
       "1371975  ffffbbf78b6eaac697a8a5dfbfd2bfa8113ee5b403e474...   \n",
       "1371976  ffffcd5046a6143d29a04fb8c424ce494a76e5cdf4fab5...   \n",
       "1371977  ffffcf35913a0bee60e8741cb2b4e78b8a98ee5ff2e6a1...   \n",
       "1371978  ffffd7744cebcf3aca44ae7049d2a94b87074c3d4ffe38...   \n",
       "1371979  ffffd9ac14e89946416d80e791d064701994755c3ab686...   \n",
       "\n",
       "                                                prediction  \n",
       "0        0706016001 0706016002 0372860001 0610776002 07...  \n",
       "1        0706016001 0706016002 0372860001 0610776002 07...  \n",
       "2        0706016001 0706016002 0372860001 0610776002 07...  \n",
       "3        0706016001 0706016002 0372860001 0610776002 07...  \n",
       "4        0706016001 0706016002 0372860001 0610776002 07...  \n",
       "...                                                    ...  \n",
       "1371975  0706016001 0706016002 0372860001 0610776002 07...  \n",
       "1371976  0706016001 0706016002 0372860001 0610776002 07...  \n",
       "1371977  0706016001 0706016002 0372860001 0610776002 07...  \n",
       "1371978  0706016001 0706016002 0372860001 0610776002 07...  \n",
       "1371979  0706016001 0706016002 0372860001 0610776002 07...  \n",
       "\n",
       "[1371980 rows x 2 columns]"
      ]
     },
     "execution_count": 10,
     "metadata": {},
     "output_type": "execute_result"
    }
   ],
   "source": [
    "sample_submission"
   ]
  },
  {
   "cell_type": "code",
   "execution_count": 11,
   "id": "63bf9772",
   "metadata": {
    "execution": {
     "iopub.execute_input": "2022-03-11T07:19:00.425226Z",
     "iopub.status.busy": "2022-03-11T07:19:00.424232Z",
     "iopub.status.idle": "2022-03-11T07:19:00.430640Z",
     "shell.execute_reply": "2022-03-11T07:19:00.430136Z",
     "shell.execute_reply.started": "2022-03-11T07:11:22.391735Z"
    },
    "papermill": {
     "duration": 0.053864,
     "end_time": "2022-03-11T07:19:00.430788",
     "exception": false,
     "start_time": "2022-03-11T07:19:00.376924",
     "status": "completed"
    },
    "tags": []
   },
   "outputs": [
    {
     "data": {
      "text/plain": [
       "((31788324, 5), (1371980, 7), (105542, 25))"
      ]
     },
     "execution_count": 11,
     "metadata": {},
     "output_type": "execute_result"
    }
   ],
   "source": [
    "train.shape, customers.shape, articles.shape"
   ]
  },
  {
   "cell_type": "code",
   "execution_count": 12,
   "id": "77d1510c",
   "metadata": {
    "execution": {
     "iopub.execute_input": "2022-03-11T07:19:00.532084Z",
     "iopub.status.busy": "2022-03-11T07:19:00.531403Z",
     "iopub.status.idle": "2022-03-11T07:19:00.534077Z",
     "shell.execute_reply": "2022-03-11T07:19:00.534556Z",
     "shell.execute_reply.started": "2022-03-11T07:11:22.401557Z"
    },
    "papermill": {
     "duration": 0.058601,
     "end_time": "2022-03-11T07:19:00.534718",
     "exception": false,
     "start_time": "2022-03-11T07:19:00.476117",
     "status": "completed"
    },
    "tags": []
   },
   "outputs": [
    {
     "data": {
      "text/html": [
       "<div>\n",
       "<style scoped>\n",
       "    .dataframe tbody tr th:only-of-type {\n",
       "        vertical-align: middle;\n",
       "    }\n",
       "\n",
       "    .dataframe tbody tr th {\n",
       "        vertical-align: top;\n",
       "    }\n",
       "\n",
       "    .dataframe thead th {\n",
       "        text-align: right;\n",
       "    }\n",
       "</style>\n",
       "<table border=\"1\" class=\"dataframe\">\n",
       "  <thead>\n",
       "    <tr style=\"text-align: right;\">\n",
       "      <th></th>\n",
       "      <th>t_dat</th>\n",
       "      <th>customer_id</th>\n",
       "      <th>article_id</th>\n",
       "      <th>price</th>\n",
       "      <th>sales_channel_id</th>\n",
       "    </tr>\n",
       "  </thead>\n",
       "  <tbody>\n",
       "    <tr>\n",
       "      <th>0</th>\n",
       "      <td>2018-09-20</td>\n",
       "      <td>000058a12d5b43e67d225668fa1f8d618c13dc232df0ca...</td>\n",
       "      <td>0663713001</td>\n",
       "      <td>0.050831</td>\n",
       "      <td>2</td>\n",
       "    </tr>\n",
       "    <tr>\n",
       "      <th>1</th>\n",
       "      <td>2018-09-20</td>\n",
       "      <td>000058a12d5b43e67d225668fa1f8d618c13dc232df0ca...</td>\n",
       "      <td>0541518023</td>\n",
       "      <td>0.030492</td>\n",
       "      <td>2</td>\n",
       "    </tr>\n",
       "  </tbody>\n",
       "</table>\n",
       "</div>"
      ],
      "text/plain": [
       "       t_dat                                        customer_id  article_id  \\\n",
       "0 2018-09-20  000058a12d5b43e67d225668fa1f8d618c13dc232df0ca...  0663713001   \n",
       "1 2018-09-20  000058a12d5b43e67d225668fa1f8d618c13dc232df0ca...  0541518023   \n",
       "\n",
       "      price  sales_channel_id  \n",
       "0  0.050831                 2  \n",
       "1  0.030492                 2  "
      ]
     },
     "execution_count": 12,
     "metadata": {},
     "output_type": "execute_result"
    }
   ],
   "source": [
    "train.head(2)"
   ]
  },
  {
   "cell_type": "code",
   "execution_count": 13,
   "id": "6e66369f",
   "metadata": {
    "execution": {
     "iopub.execute_input": "2022-03-11T07:19:00.638878Z",
     "iopub.status.busy": "2022-03-11T07:19:00.638210Z",
     "iopub.status.idle": "2022-03-11T07:19:00.640973Z",
     "shell.execute_reply": "2022-03-11T07:19:00.641468Z",
     "shell.execute_reply.started": "2022-03-11T07:11:22.424655Z"
    },
    "papermill": {
     "duration": 0.060732,
     "end_time": "2022-03-11T07:19:00.641634",
     "exception": false,
     "start_time": "2022-03-11T07:19:00.580902",
     "status": "completed"
    },
    "tags": []
   },
   "outputs": [
    {
     "data": {
      "text/html": [
       "<div>\n",
       "<style scoped>\n",
       "    .dataframe tbody tr th:only-of-type {\n",
       "        vertical-align: middle;\n",
       "    }\n",
       "\n",
       "    .dataframe tbody tr th {\n",
       "        vertical-align: top;\n",
       "    }\n",
       "\n",
       "    .dataframe thead th {\n",
       "        text-align: right;\n",
       "    }\n",
       "</style>\n",
       "<table border=\"1\" class=\"dataframe\">\n",
       "  <thead>\n",
       "    <tr style=\"text-align: right;\">\n",
       "      <th></th>\n",
       "      <th>customer_id</th>\n",
       "      <th>FN</th>\n",
       "      <th>Active</th>\n",
       "      <th>club_member_status</th>\n",
       "      <th>fashion_news_frequency</th>\n",
       "      <th>age</th>\n",
       "      <th>postal_code</th>\n",
       "    </tr>\n",
       "  </thead>\n",
       "  <tbody>\n",
       "    <tr>\n",
       "      <th>0</th>\n",
       "      <td>00000dbacae5abe5e23885899a1fa44253a17956c6d1c3...</td>\n",
       "      <td>NaN</td>\n",
       "      <td>NaN</td>\n",
       "      <td>ACTIVE</td>\n",
       "      <td>NONE</td>\n",
       "      <td>49.0</td>\n",
       "      <td>52043ee2162cf5aa7ee79974281641c6f11a68d276429a...</td>\n",
       "    </tr>\n",
       "    <tr>\n",
       "      <th>1</th>\n",
       "      <td>0000423b00ade91418cceaf3b26c6af3dd342b51fd051e...</td>\n",
       "      <td>NaN</td>\n",
       "      <td>NaN</td>\n",
       "      <td>ACTIVE</td>\n",
       "      <td>NONE</td>\n",
       "      <td>25.0</td>\n",
       "      <td>2973abc54daa8a5f8ccfe9362140c63247c5eee03f1d93...</td>\n",
       "    </tr>\n",
       "  </tbody>\n",
       "</table>\n",
       "</div>"
      ],
      "text/plain": [
       "                                         customer_id  FN  Active  \\\n",
       "0  00000dbacae5abe5e23885899a1fa44253a17956c6d1c3... NaN     NaN   \n",
       "1  0000423b00ade91418cceaf3b26c6af3dd342b51fd051e... NaN     NaN   \n",
       "\n",
       "  club_member_status fashion_news_frequency   age  \\\n",
       "0             ACTIVE                   NONE  49.0   \n",
       "1             ACTIVE                   NONE  25.0   \n",
       "\n",
       "                                         postal_code  \n",
       "0  52043ee2162cf5aa7ee79974281641c6f11a68d276429a...  \n",
       "1  2973abc54daa8a5f8ccfe9362140c63247c5eee03f1d93...  "
      ]
     },
     "execution_count": 13,
     "metadata": {},
     "output_type": "execute_result"
    }
   ],
   "source": [
    "customers.head(2)"
   ]
  },
  {
   "cell_type": "code",
   "execution_count": 14,
   "id": "0511d04d",
   "metadata": {
    "execution": {
     "iopub.execute_input": "2022-03-11T07:19:01.469088Z",
     "iopub.status.busy": "2022-03-11T07:19:01.467696Z",
     "iopub.status.idle": "2022-03-11T07:19:01.595229Z",
     "shell.execute_reply": "2022-03-11T07:19:01.594329Z",
     "shell.execute_reply.started": "2022-03-11T07:11:22.441384Z"
    },
    "papermill": {
     "duration": 0.907783,
     "end_time": "2022-03-11T07:19:01.595393",
     "exception": false,
     "start_time": "2022-03-11T07:19:00.687610",
     "status": "completed"
    },
    "tags": []
   },
   "outputs": [
    {
     "data": {
      "text/plain": [
       "2c29ae653a9282cce4151bd87643c907644e09541abc28ae87dea0d1f6603b1c    120303\n",
       "cc4ed85e30f4977dae47662ddc468cd2eec11472de6fac5ec985080fd92243c8       261\n",
       "714976379549eb90aae4a71bca6c7402cc646ae7c40f6c1cb91d4b5a18623fc1       159\n",
       "7c1fa3b0ec1d37ce2c3f34f63bd792f3b4494f324b6be5d1e4ba6a75456b96a7       157\n",
       "5b7eb31eabebd3277de632b82267286d847fd5d44287ee150bb4206b48439145       156\n",
       "                                                                     ...  \n",
       "16dd7e391f305b54c01ffed87c189e33de83158d0a808d1b346222703742f638         1\n",
       "5ce1c699380b3c13655347c9636043f5e64ec2538a1ee7d42dd253a584577630         1\n",
       "afdedc642d01efeefec6fc8d3394724a71888ebd0ff0311eff6f34946589479d         1\n",
       "4c8838d278d23029c920b9684fa4cf30a532428a445afb300eeb288685cf00e1         1\n",
       "0a1a03306fb2f62164c2a439b38c0caa64b40deaae868799ccb93ac69444b79d         1\n",
       "Name: postal_code, Length: 352899, dtype: int64"
      ]
     },
     "execution_count": 14,
     "metadata": {},
     "output_type": "execute_result"
    }
   ],
   "source": [
    "customers['postal_code'].value_counts()"
   ]
  },
  {
   "cell_type": "code",
   "execution_count": 15,
   "id": "898727d5",
   "metadata": {
    "execution": {
     "iopub.execute_input": "2022-03-11T07:19:01.692722Z",
     "iopub.status.busy": "2022-03-11T07:19:01.692111Z",
     "iopub.status.idle": "2022-03-11T07:19:01.713743Z",
     "shell.execute_reply": "2022-03-11T07:19:01.714359Z",
     "shell.execute_reply.started": "2022-03-11T07:11:23.394574Z"
    },
    "papermill": {
     "duration": 0.071961,
     "end_time": "2022-03-11T07:19:01.714528",
     "exception": false,
     "start_time": "2022-03-11T07:19:01.642567",
     "status": "completed"
    },
    "tags": []
   },
   "outputs": [
    {
     "data": {
      "text/html": [
       "<div>\n",
       "<style scoped>\n",
       "    .dataframe tbody tr th:only-of-type {\n",
       "        vertical-align: middle;\n",
       "    }\n",
       "\n",
       "    .dataframe tbody tr th {\n",
       "        vertical-align: top;\n",
       "    }\n",
       "\n",
       "    .dataframe thead th {\n",
       "        text-align: right;\n",
       "    }\n",
       "</style>\n",
       "<table border=\"1\" class=\"dataframe\">\n",
       "  <thead>\n",
       "    <tr style=\"text-align: right;\">\n",
       "      <th></th>\n",
       "      <th>article_id</th>\n",
       "      <th>product_code</th>\n",
       "      <th>prod_name</th>\n",
       "      <th>product_type_no</th>\n",
       "      <th>product_type_name</th>\n",
       "      <th>product_group_name</th>\n",
       "      <th>graphical_appearance_no</th>\n",
       "      <th>graphical_appearance_name</th>\n",
       "      <th>colour_group_code</th>\n",
       "      <th>colour_group_name</th>\n",
       "      <th>...</th>\n",
       "      <th>department_name</th>\n",
       "      <th>index_code</th>\n",
       "      <th>index_name</th>\n",
       "      <th>index_group_no</th>\n",
       "      <th>index_group_name</th>\n",
       "      <th>section_no</th>\n",
       "      <th>section_name</th>\n",
       "      <th>garment_group_no</th>\n",
       "      <th>garment_group_name</th>\n",
       "      <th>detail_desc</th>\n",
       "    </tr>\n",
       "  </thead>\n",
       "  <tbody>\n",
       "    <tr>\n",
       "      <th>0</th>\n",
       "      <td>0108775015</td>\n",
       "      <td>108775</td>\n",
       "      <td>Strap top</td>\n",
       "      <td>253</td>\n",
       "      <td>Vest top</td>\n",
       "      <td>Garment Upper body</td>\n",
       "      <td>1010016</td>\n",
       "      <td>Solid</td>\n",
       "      <td>9</td>\n",
       "      <td>Black</td>\n",
       "      <td>...</td>\n",
       "      <td>Jersey Basic</td>\n",
       "      <td>A</td>\n",
       "      <td>Ladieswear</td>\n",
       "      <td>1</td>\n",
       "      <td>Ladieswear</td>\n",
       "      <td>16</td>\n",
       "      <td>Womens Everyday Basics</td>\n",
       "      <td>1002</td>\n",
       "      <td>Jersey Basic</td>\n",
       "      <td>Jersey top with narrow shoulder straps.</td>\n",
       "    </tr>\n",
       "    <tr>\n",
       "      <th>1</th>\n",
       "      <td>0108775044</td>\n",
       "      <td>108775</td>\n",
       "      <td>Strap top</td>\n",
       "      <td>253</td>\n",
       "      <td>Vest top</td>\n",
       "      <td>Garment Upper body</td>\n",
       "      <td>1010016</td>\n",
       "      <td>Solid</td>\n",
       "      <td>10</td>\n",
       "      <td>White</td>\n",
       "      <td>...</td>\n",
       "      <td>Jersey Basic</td>\n",
       "      <td>A</td>\n",
       "      <td>Ladieswear</td>\n",
       "      <td>1</td>\n",
       "      <td>Ladieswear</td>\n",
       "      <td>16</td>\n",
       "      <td>Womens Everyday Basics</td>\n",
       "      <td>1002</td>\n",
       "      <td>Jersey Basic</td>\n",
       "      <td>Jersey top with narrow shoulder straps.</td>\n",
       "    </tr>\n",
       "  </tbody>\n",
       "</table>\n",
       "<p>2 rows × 25 columns</p>\n",
       "</div>"
      ],
      "text/plain": [
       "   article_id  product_code  prod_name  product_type_no product_type_name  \\\n",
       "0  0108775015        108775  Strap top              253          Vest top   \n",
       "1  0108775044        108775  Strap top              253          Vest top   \n",
       "\n",
       "   product_group_name  graphical_appearance_no graphical_appearance_name  \\\n",
       "0  Garment Upper body                  1010016                     Solid   \n",
       "1  Garment Upper body                  1010016                     Solid   \n",
       "\n",
       "   colour_group_code colour_group_name  ...  department_name index_code  \\\n",
       "0                  9             Black  ...     Jersey Basic          A   \n",
       "1                 10             White  ...     Jersey Basic          A   \n",
       "\n",
       "   index_name index_group_no  index_group_name section_no  \\\n",
       "0  Ladieswear              1        Ladieswear         16   \n",
       "1  Ladieswear              1        Ladieswear         16   \n",
       "\n",
       "             section_name garment_group_no  garment_group_name  \\\n",
       "0  Womens Everyday Basics             1002        Jersey Basic   \n",
       "1  Womens Everyday Basics             1002        Jersey Basic   \n",
       "\n",
       "                               detail_desc  \n",
       "0  Jersey top with narrow shoulder straps.  \n",
       "1  Jersey top with narrow shoulder straps.  \n",
       "\n",
       "[2 rows x 25 columns]"
      ]
     },
     "execution_count": 15,
     "metadata": {},
     "output_type": "execute_result"
    }
   ],
   "source": [
    "articles.head(2)"
   ]
  },
  {
   "cell_type": "code",
   "execution_count": 16,
   "id": "2ff90a2c",
   "metadata": {
    "execution": {
     "iopub.execute_input": "2022-03-11T07:19:01.815161Z",
     "iopub.status.busy": "2022-03-11T07:19:01.814540Z",
     "iopub.status.idle": "2022-03-11T07:19:01.827443Z",
     "shell.execute_reply": "2022-03-11T07:19:01.827899Z",
     "shell.execute_reply.started": "2022-03-11T07:11:23.424328Z"
    },
    "papermill": {
     "duration": 0.066402,
     "end_time": "2022-03-11T07:19:01.828090",
     "exception": false,
     "start_time": "2022-03-11T07:19:01.761688",
     "status": "completed"
    },
    "tags": []
   },
   "outputs": [
    {
     "data": {
      "text/plain": [
       "783707    75\n",
       "684021    70\n",
       "699923    52\n",
       "699755    49\n",
       "685604    46\n",
       "          ..\n",
       "761368     1\n",
       "761366     1\n",
       "761360     1\n",
       "761350     1\n",
       "959461     1\n",
       "Name: product_code, Length: 47224, dtype: int64"
      ]
     },
     "execution_count": 16,
     "metadata": {},
     "output_type": "execute_result"
    }
   ],
   "source": [
    "articles['product_code'].value_counts()"
   ]
  },
  {
   "cell_type": "code",
   "execution_count": 17,
   "id": "050406e4",
   "metadata": {
    "execution": {
     "iopub.execute_input": "2022-03-11T07:19:01.959558Z",
     "iopub.status.busy": "2022-03-11T07:19:01.958896Z",
     "iopub.status.idle": "2022-03-11T07:19:01.972882Z",
     "shell.execute_reply": "2022-03-11T07:19:01.972363Z",
     "shell.execute_reply.started": "2022-03-11T07:11:23.441313Z"
    },
    "papermill": {
     "duration": 0.097562,
     "end_time": "2022-03-11T07:19:01.973049",
     "exception": false,
     "start_time": "2022-03-11T07:19:01.875487",
     "status": "completed"
    },
    "tags": []
   },
   "outputs": [
    {
     "data": {
      "text/plain": [
       "Dragonfly dress                98\n",
       "Mike tee                       72\n",
       "Wow printed tee 6.99           70\n",
       "1pk Fun                        55\n",
       "TP Paddington Sweater          54\n",
       "                               ..\n",
       "W MARCIE DRESS CNY              1\n",
       "W NAPOLI SKIRT CNY              1\n",
       "BEANIE JERSEY FLEECED LINED     1\n",
       "H-string multicolour            1\n",
       "Lounge dress                    1\n",
       "Name: prod_name, Length: 45875, dtype: int64"
      ]
     },
     "execution_count": 17,
     "metadata": {},
     "output_type": "execute_result"
    }
   ],
   "source": [
    "articles['prod_name'].value_counts()"
   ]
  },
  {
   "cell_type": "code",
   "execution_count": 18,
   "id": "a5522b1c",
   "metadata": {
    "execution": {
     "iopub.execute_input": "2022-03-11T07:19:02.075426Z",
     "iopub.status.busy": "2022-03-11T07:19:02.074744Z",
     "iopub.status.idle": "2022-03-11T07:19:02.077489Z",
     "shell.execute_reply": "2022-03-11T07:19:02.078067Z",
     "shell.execute_reply.started": "2022-03-11T07:11:23.500249Z"
    },
    "papermill": {
     "duration": 0.056307,
     "end_time": "2022-03-11T07:19:02.078239",
     "exception": false,
     "start_time": "2022-03-11T07:19:02.021932",
     "status": "completed"
    },
    "tags": []
   },
   "outputs": [
    {
     "data": {
      "text/plain": [
       "Index(['article_id', 'product_code', 'prod_name', 'product_type_no',\n",
       "       'product_type_name', 'product_group_name', 'graphical_appearance_no',\n",
       "       'graphical_appearance_name', 'colour_group_code', 'colour_group_name',\n",
       "       'perceived_colour_value_id', 'perceived_colour_value_name',\n",
       "       'perceived_colour_master_id', 'perceived_colour_master_name',\n",
       "       'department_no', 'department_name', 'index_code', 'index_name',\n",
       "       'index_group_no', 'index_group_name', 'section_no', 'section_name',\n",
       "       'garment_group_no', 'garment_group_name', 'detail_desc'],\n",
       "      dtype='object')"
      ]
     },
     "execution_count": 18,
     "metadata": {},
     "output_type": "execute_result"
    }
   ],
   "source": [
    "articles.columns"
   ]
  },
  {
   "cell_type": "code",
   "execution_count": 19,
   "id": "38e3a5e7",
   "metadata": {
    "execution": {
     "iopub.execute_input": "2022-03-11T07:19:02.350775Z",
     "iopub.status.busy": "2022-03-11T07:19:02.350045Z",
     "iopub.status.idle": "2022-03-11T07:19:02.532197Z",
     "shell.execute_reply": "2022-03-11T07:19:02.532725Z",
     "shell.execute_reply.started": "2022-03-11T07:11:23.508868Z"
    },
    "papermill": {
     "duration": 0.4058,
     "end_time": "2022-03-11T07:19:02.532893",
     "exception": false,
     "start_time": "2022-03-11T07:19:02.127093",
     "status": "completed"
    },
    "tags": []
   },
   "outputs": [
    {
     "data": {
      "text/plain": [
       "detail_desc    416\n",
       "dtype: int64"
      ]
     },
     "execution_count": 19,
     "metadata": {},
     "output_type": "execute_result"
    }
   ],
   "source": [
    "articles.isna().sum()[articles.isna().sum()>0]"
   ]
  },
  {
   "cell_type": "code",
   "execution_count": 20,
   "id": "9a4cff34",
   "metadata": {
    "execution": {
     "iopub.execute_input": "2022-03-11T07:19:02.634704Z",
     "iopub.status.busy": "2022-03-11T07:19:02.634013Z",
     "iopub.status.idle": "2022-03-11T07:19:02.670043Z",
     "shell.execute_reply": "2022-03-11T07:19:02.670630Z",
     "shell.execute_reply.started": "2022-03-11T07:11:23.868235Z"
    },
    "papermill": {
     "duration": 0.088285,
     "end_time": "2022-03-11T07:19:02.670798",
     "exception": false,
     "start_time": "2022-03-11T07:19:02.582513",
     "status": "completed"
    },
    "tags": []
   },
   "outputs": [
    {
     "data": {
      "text/plain": [
       "(105542, 47224)"
      ]
     },
     "execution_count": 20,
     "metadata": {},
     "output_type": "execute_result"
    }
   ],
   "source": [
    "articles['article_id'].nunique(), articles['product_code'].nunique()"
   ]
  },
  {
   "cell_type": "code",
   "execution_count": 21,
   "id": "d999c2ac",
   "metadata": {
    "execution": {
     "iopub.execute_input": "2022-03-11T07:19:02.772084Z",
     "iopub.status.busy": "2022-03-11T07:19:02.771440Z",
     "iopub.status.idle": "2022-03-11T07:19:02.936259Z",
     "shell.execute_reply": "2022-03-11T07:19:02.935662Z",
     "shell.execute_reply.started": "2022-03-11T07:11:23.910227Z"
    },
    "papermill": {
     "duration": 0.216658,
     "end_time": "2022-03-11T07:19:02.936402",
     "exception": false,
     "start_time": "2022-03-11T07:19:02.719744",
     "status": "completed"
    },
    "tags": []
   },
   "outputs": [
    {
     "data": {
      "text/plain": [
       "2    22379862\n",
       "1     9408462\n",
       "Name: sales_channel_id, dtype: int64"
      ]
     },
     "execution_count": 21,
     "metadata": {},
     "output_type": "execute_result"
    }
   ],
   "source": [
    "train['sales_channel_id'].value_counts()"
   ]
  },
  {
   "cell_type": "code",
   "execution_count": 22,
   "id": "f735712d",
   "metadata": {
    "execution": {
     "iopub.execute_input": "2022-03-11T07:19:03.041722Z",
     "iopub.status.busy": "2022-03-11T07:19:03.040949Z",
     "iopub.status.idle": "2022-03-11T07:19:03.046157Z",
     "shell.execute_reply": "2022-03-11T07:19:03.045629Z",
     "shell.execute_reply.started": "2022-03-11T07:11:24.078709Z"
    },
    "papermill": {
     "duration": 0.059733,
     "end_time": "2022-03-11T07:19:03.046300",
     "exception": false,
     "start_time": "2022-03-11T07:19:02.986567",
     "status": "completed"
    },
    "tags": []
   },
   "outputs": [],
   "source": [
    "customers['age'].fillna(value=-1, inplace=True)"
   ]
  },
  {
   "cell_type": "code",
   "execution_count": 23,
   "id": "4573b5e6",
   "metadata": {
    "execution": {
     "iopub.execute_input": "2022-03-11T07:19:03.151151Z",
     "iopub.status.busy": "2022-03-11T07:19:03.150468Z",
     "iopub.status.idle": "2022-03-11T07:19:03.265716Z",
     "shell.execute_reply": "2022-03-11T07:19:03.265068Z",
     "shell.execute_reply.started": "2022-03-11T07:11:24.098481Z"
    },
    "papermill": {
     "duration": 0.169512,
     "end_time": "2022-03-11T07:19:03.265862",
     "exception": false,
     "start_time": "2022-03-11T07:19:03.096350",
     "status": "completed"
    },
    "tags": []
   },
   "outputs": [
    {
     "data": {
      "text/plain": [
       "count    3.248790e+06\n",
       "mean     3.006132e-02\n",
       "std      2.080211e-02\n",
       "min      1.525424e-04\n",
       "25%      1.693220e-02\n",
       "50%      2.540678e-02\n",
       "75%      3.550847e-02\n",
       "max      5.915254e-01\n",
       "Name: price, dtype: float64"
      ]
     },
     "execution_count": 23,
     "metadata": {},
     "output_type": "execute_result"
    }
   ],
   "source": [
    "df['price'].describe()"
   ]
  },
  {
   "cell_type": "code",
   "execution_count": 24,
   "id": "2cbd7798",
   "metadata": {
    "execution": {
     "iopub.execute_input": "2022-03-11T07:19:03.374881Z",
     "iopub.status.busy": "2022-03-11T07:19:03.373740Z",
     "iopub.status.idle": "2022-03-11T07:19:03.489176Z",
     "shell.execute_reply": "2022-03-11T07:19:03.489771Z",
     "shell.execute_reply.started": "2022-03-11T07:11:24.240980Z"
    },
    "papermill": {
     "duration": 0.173316,
     "end_time": "2022-03-11T07:19:03.489934",
     "exception": false,
     "start_time": "2022-03-11T07:19:03.316618",
     "status": "completed"
    },
    "tags": []
   },
   "outputs": [
    {
     "data": {
      "text/plain": [
       "count    3.248790e+06\n",
       "mean     1.773618e+01\n",
       "std      1.227325e+01\n",
       "min      9.000000e-02\n",
       "25%      9.990000e+00\n",
       "50%      1.499000e+01\n",
       "75%      2.095000e+01\n",
       "max      3.490000e+02\n",
       "Name: price, dtype: float64"
      ]
     },
     "execution_count": 24,
     "metadata": {},
     "output_type": "execute_result"
    }
   ],
   "source": [
    "(df['price']*590).describe()"
   ]
  },
  {
   "cell_type": "code",
   "execution_count": 25,
   "id": "37e5cc2e",
   "metadata": {
    "execution": {
     "iopub.execute_input": "2022-03-11T07:19:03.598780Z",
     "iopub.status.busy": "2022-03-11T07:19:03.598157Z",
     "iopub.status.idle": "2022-03-11T07:19:03.702137Z",
     "shell.execute_reply": "2022-03-11T07:19:03.701484Z",
     "shell.execute_reply.started": "2022-03-11T07:11:24.382944Z"
    },
    "papermill": {
     "duration": 0.161745,
     "end_time": "2022-03-11T07:19:03.702277",
     "exception": false,
     "start_time": "2022-03-11T07:19:03.540532",
     "status": "completed"
    },
    "tags": []
   },
   "outputs": [
    {
     "data": {
      "text/plain": [
       "count    3.248790e+06\n",
       "mean     1.686325e+01\n",
       "std      1.225915e+01\n",
       "min      0.000000e+00\n",
       "25%      9.000000e+00\n",
       "50%      1.400000e+01\n",
       "75%      2.000000e+01\n",
       "max      3.490000e+02\n",
       "Name: price, dtype: float64"
      ]
     },
     "execution_count": 25,
     "metadata": {},
     "output_type": "execute_result"
    }
   ],
   "source": [
    "((df['price']*590).astype(int)).describe()"
   ]
  },
  {
   "cell_type": "code",
   "execution_count": 26,
   "id": "f25ae802",
   "metadata": {
    "execution": {
     "iopub.execute_input": "2022-03-11T07:19:03.813200Z",
     "iopub.status.busy": "2022-03-11T07:19:03.812560Z",
     "iopub.status.idle": "2022-03-11T07:19:03.830426Z",
     "shell.execute_reply": "2022-03-11T07:19:03.830914Z",
     "shell.execute_reply.started": "2022-03-11T07:11:24.519453Z"
    },
    "papermill": {
     "duration": 0.076717,
     "end_time": "2022-03-11T07:19:03.831117",
     "exception": false,
     "start_time": "2022-03-11T07:19:03.754400",
     "status": "completed"
    },
    "tags": []
   },
   "outputs": [
    {
     "name": "stderr",
     "output_type": "stream",
     "text": [
      "/opt/conda/lib/python3.7/site-packages/ipykernel_launcher.py:2: SettingWithCopyWarning: \n",
      "A value is trying to be set on a copy of a slice from a DataFrame.\n",
      "Try using .loc[row_indexer,col_indexer] = value instead\n",
      "\n",
      "See the caveats in the documentation: https://pandas.pydata.org/pandas-docs/stable/user_guide/indexing.html#returning-a-view-versus-a-copy\n",
      "  \n"
     ]
    }
   ],
   "source": [
    "df.reset_index(drop=True, inplace=True)\n",
    "df['price'] = (df['price']*590).astype(int)"
   ]
  },
  {
   "cell_type": "code",
   "execution_count": 27,
   "id": "65dbdf80",
   "metadata": {
    "execution": {
     "iopub.execute_input": "2022-03-11T07:19:03.938422Z",
     "iopub.status.busy": "2022-03-11T07:19:03.937235Z",
     "iopub.status.idle": "2022-03-11T07:19:03.991460Z",
     "shell.execute_reply": "2022-03-11T07:19:03.990859Z",
     "shell.execute_reply.started": "2022-03-11T07:13:15.652101Z"
    },
    "papermill": {
     "duration": 0.109177,
     "end_time": "2022-03-11T07:19:03.991618",
     "exception": false,
     "start_time": "2022-03-11T07:19:03.882441",
     "status": "completed"
    },
    "tags": []
   },
   "outputs": [],
   "source": [
    "class DataProc():\n",
    "    def __init__(self, interaction_df, client_df, product_df, filter=None, test_size=0.1):\n",
    "        self.interaction_df = interaction_df[interaction_df['customer_id'].isin(client_df['customer_id'].tolist())]\n",
    "        self.client_df = client_df\n",
    "        self.product_df = product_df   \n",
    "        self.test_size = test_size\n",
    "\n",
    "    def split_data(self, finalize=False):\n",
    "        sales = self.interaction_df\n",
    "        sales = sales[sales['price']>0].copy()\n",
    "        sales = sales.sort_values(by='t_dat').reset_index(drop=True).copy()\n",
    "        if finalize==True:\n",
    "            train_df = sales\n",
    "            test_df = sales\n",
    "        else:\n",
    "            test_df = sales.tail(int(len(sales)*self.test_size))\n",
    "            train_df = sales.head(len(sales)-len(test_df))\n",
    "        df = train_df[['customer_id', 'article_id', 'price']].groupby(['customer_id', 'article_id']).agg('sum')\n",
    "        test = test_df[['customer_id', 'article_id', 'price']].groupby(['customer_id', 'article_id']).agg('sum')\n",
    "        df.reset_index(level=0, inplace=True)\n",
    "        df.reset_index(level=0, inplace=True)\n",
    "        test.reset_index(level=0, inplace=True)\n",
    "        test.reset_index(level=0, inplace=True)\n",
    "        df.rename(columns={'article_id': 'itemID', \n",
    "                            'customer_id': 'userID', \n",
    "                            'price': 'count'}, inplace=True)\n",
    "        test.rename(columns={'article_id': 'itemID', \n",
    "                            'customer_id': 'userID', \n",
    "                            'price': 'count'}, inplace=True)\n",
    "        if type(filter) is list:\n",
    "            df = df[~df['itemID'].isin(filter)].copy()\n",
    "        print('TRAIN SHAPE:', train_df.shape)\n",
    "        print('TEST SHAPE:', test_df.shape)\n",
    "        \n",
    "        return df, test\n",
    "\n",
    "    def preprocess_interaction(self, df):\n",
    "\n",
    "\n",
    "        # add metadata\n",
    "        df = df.merge(self.product_df[['article_id', 'colour_group_code', 'product_type_no', 'product_code', \n",
    "                                       'section_no', 'department_no', 'graphical_appearance_no', 'index_group_no',\n",
    "                                       'garment_group_no']],\n",
    "                how='left',\n",
    "                left_on='itemID',\n",
    "                right_on='article_id').merge(self.client_df[['customer_id', 'age']],\n",
    "                                                    how='left', \n",
    "                                                    left_on='userID', \n",
    "                                                    right_on='customer_id').copy()\n",
    "        _df = df.drop(['article_id', 'customer_id'], axis=1)\n",
    "\n",
    "        # swap columns cuz LightFM needs this format\n",
    "        cols = list(_df.columns)\n",
    "        cols.remove('userID')\n",
    "        _df = _df[['userID', *cols]].copy()\n",
    "\n",
    "        _df.dropna(inplace=True)\n",
    "        \n",
    "        # smooth count\n",
    "        _df[['count']]=_df[['count']].applymap(lambda x: np.log2(x)+1)\n",
    "        return _df\n",
    "\n",
    "    def get_user_item_dic(self):\n",
    "        # convert userID & itemID to id\n",
    "        id_to_user = dict(enumerate(self.client_df['customer_id'].unique()))\n",
    "        id_to_item = dict(enumerate(self.product_df['article_id'].unique()))\n",
    "        user_to_id = dict((v,k) for k,v in id_to_user.items())\n",
    "        item_to_id = dict((v,k) for k,v in id_to_item.items())\n",
    "        return {'id_to_user': id_to_user,\n",
    "                'id_to_item': id_to_item,\n",
    "                'user_to_id': user_to_id,\n",
    "                'item_to_id': item_to_id}\n",
    "    \n",
    "    def create_dataset(self):\n",
    "        dataset = Dataset()\n",
    "        \n",
    "        item_features = self.product_df['colour_group_code'].unique().tolist()+self.product_df['product_type_no'].unique().tolist()\\\n",
    "        +self.product_df['product_code'].unique().tolist()+self.product_df['section_no'].unique().tolist()\\\n",
    "        +self.product_df['department_no'].unique().tolist()+self.product_df['graphical_appearance_no'].unique().tolist()\\\n",
    "        +self.product_df['index_group_no'].unique().tolist()+self.product_df['garment_group_no'].unique().tolist()\n",
    "\n",
    "        dataset.fit(users=self.client_df['customer_id'].unique(), \n",
    "                    items=self.product_df['article_id'].unique(), \n",
    "                    user_features=self.client_df['age'].unique().tolist()+\\\n",
    "                    self.client_df['postal_code'].unique().tolist(),\n",
    "                    item_features= item_features,\n",
    "#                     item_features=self.product_df['colour_group_code'].unique().tolist(),\n",
    "                   )\n",
    "        \n",
    "        return dataset\n",
    "\n",
    "    def create_sparse_matrix(self, df):       \n",
    "#         return self.create_dataset().build_interactions(df.values)\n",
    "#         return self.create_dataset().build_interactions(df.iloc[:, 0:3].values)\n",
    "        return self.create_dataset().build_interactions(df.iloc[:, 0:2].values)\n",
    "\n",
    "\n",
    "\n",
    "    def create_user_item_features(self):\n",
    "        item_features = self.create_dataset().build_item_features(\n",
    "            (x, y) for x,y in zip(self.product_df['article_id'], \n",
    "                                  self.product_df[['colour_group_code', 'product_type_no', 'product_code', \n",
    "                                       'section_no', 'department_no', 'graphical_appearance_no', 'index_group_no',\n",
    "                                       'garment_group_no']].values))\n",
    "#             (x, y) for x,y in zip(self.product_df['article_id'], self.product_df[['colour_group_code']].values))\n",
    "            \n",
    "\n",
    "        user_features = self.create_dataset().build_user_features(\n",
    "#             (x, y) for x,y in zip(self.client_df['customer_id'], self.client_df[['age']].values))\n",
    "            \n",
    "            (x, y) for x,y in zip(self.client_df['customer_id'], self.client_df[['age', 'postal_code']].values))\n",
    "        \n",
    "        return {'item_features': item_features, 'user_features': user_features}\n",
    "\n",
    "    def process_data(self, finalize=False):\n",
    "        train_df, test_df = self.split_data(finalize=finalize)\n",
    "        df = self.preprocess_interaction(train_df)\n",
    "        dic = self.get_user_item_dic()\n",
    "        spm, weights = self.create_sparse_matrix(df)\n",
    "        features = self.create_user_item_features()\n",
    "        result = {'interaction': spm,\n",
    "                'weights': weights,\n",
    "                'test_df': test_df,\n",
    "                **dic,\n",
    "                **features}\n",
    "        print(f'Use {list(result.keys())} keys to access data')\n",
    "        return result\n",
    "    \n",
    "class RecModel():\n",
    "    def __init__(self, loss, lr, n_component, n_epoch, n_thread, i_alpha, u_alpha, seed=42, verbose=True):\n",
    "        self.loss = loss\n",
    "        self.lr = lr\n",
    "        # no of latent factors\n",
    "        self.n_component = n_component\n",
    "        self.n_epoch = n_epoch\n",
    "        # no of threads to fit model\n",
    "        self.n_thread = n_thread\n",
    "        # regularisation for both user and item features\n",
    "        self.i_alpha = i_alpha\n",
    "        self.u_alpha = u_alpha\n",
    "        self.seed = seed\n",
    "        self.verbose = verbose\n",
    "#         self.n=n,\n",
    "#         self.k=k,\n",
    "#         self.max_sampled = max_sampled,\n",
    "\n",
    "        self.model = LightFM(loss=self.loss, \n",
    "                             no_components=self.n_component, \n",
    "                             learning_rate=self.lr, \n",
    "                             item_alpha = self.i_alpha,\n",
    "                             user_alpha = self.u_alpha,\n",
    "#                              max_sampled = self.max_sampled,\n",
    "#                              n = self.n,\n",
    "#                              k = self.k,\n",
    "#                              learning_schedule = self.learning_schedule,\n",
    "#                              epsilon = self.epsilon,\n",
    "#                              rho = self.rho,\n",
    "                             random_state=np.random.RandomState(self.seed),\n",
    "                            )\n",
    "        \n",
    "    def summary(self):\n",
    "        return pd.DataFrame({'Loss': self.loss,\n",
    "                             'Learning Rate': self.lr,\n",
    "                             'Latent Factors': self.n_component,\n",
    "                             'Epochs': self.n_epoch,\n",
    "                             'Threads': self.n_thread,\n",
    "                             'Item Regularisation': self.i_alpha,\n",
    "                             'User Regularisation': self.u_alpha,\n",
    "                             'Seed': self.seed,\n",
    "                             'Verbose': str(self.verbose)}, index=['Detail']).transpose()\n",
    "        \n",
    "    def fit_model(self, interactions, weights, item_features, user_features):\n",
    "        md = self.model\n",
    "        md.fit(interactions=interactions,\n",
    "                         epochs=self.n_epoch, \n",
    "                         num_threads = self.n_thread,\n",
    "                         item_features=item_features,\n",
    "                         user_features=user_features,\n",
    "                         sample_weight=weights,\n",
    "                         verbose=self.verbose)\n",
    "          \n",
    "        return md\n",
    "\n",
    "    def recommend_with_user_id(self, model, user_id, user_to_id, item_features, user_features, \n",
    "                               id_to_item, n_items=90000, k=12):\n",
    "        \n",
    "        pred = pd.Series(model.predict(user_ids=user_to_id[user_id],\n",
    "                item_ids=np.arange(n_items),\n",
    "                item_features=item_features,\n",
    "                user_features=user_features)).sort_values(ascending=False).head(k).index.tolist()\n",
    "        return [id_to_item[id] for id in pred]\n",
    "\n",
    "        \n",
    "    def get_scores(self, test_df, model, user_to_id, id_to_item, item_features, \n",
    "                   user_features, calculate_personalization=False, k=12):\n",
    "        true_vals = []\n",
    "        preds = []\n",
    "        for i in tqdm(range(len(test_df['userID'].unique()))):\n",
    "            user = test_df['userID'].unique()[i]\n",
    "            true_vals.append(test_df[test_df['userID']==user]['itemID'].tolist())\n",
    "            preds.append(self.recommend_with_user_id(model=model, \n",
    "                                                    user_id=user, \n",
    "                                                    user_to_id=user_to_id, \n",
    "                                                    item_features=item_features, \n",
    "                                                    user_features=user_features, \n",
    "                                                    id_to_item=id_to_item, \n",
    "                                                    k=k))\n",
    "        precision = recmetrics.recommender_precision(predicted=preds, actual=true_vals)\n",
    "        recall = recmetrics.recommender_recall(predicted=preds, actual=true_vals)\n",
    "        mark = recmetrics.mark(predicted=preds, actual=true_vals, k=k)\n",
    "        catalog = list(id_to_item.values())\n",
    "        coverage = recmetrics.prediction_coverage(predicted=preds, catalog=catalog)\n",
    "        result = pd.DataFrame(columns=['precision', 'recall', 'mark', 'coverage'], \n",
    "                                index=[f'{model.loss.upper()} Loss'])\n",
    "        result['precision'] = precision\n",
    "        result['recall'] = recall\n",
    "        result['mark'] = mark\n",
    "        result['coverage'] = coverage\n",
    "        if calculate_personalization:\n",
    "            personalization = recmetrics.personalization(predicted=preds)\n",
    "            result['personalization'] = personalization\n",
    "        return result"
   ]
  },
  {
   "cell_type": "code",
   "execution_count": 28,
   "id": "acf1e1eb",
   "metadata": {
    "execution": {
     "iopub.execute_input": "2022-03-11T07:19:04.144698Z",
     "iopub.status.busy": "2022-03-11T07:19:04.126582Z",
     "iopub.status.idle": "2022-03-11T07:19:05.399963Z",
     "shell.execute_reply": "2022-03-11T07:19:05.400483Z",
     "shell.execute_reply.started": "2022-03-11T07:13:16.838199Z"
    },
    "papermill": {
     "duration": 1.35682,
     "end_time": "2022-03-11T07:19:05.400650",
     "exception": false,
     "start_time": "2022-03-11T07:19:04.043830",
     "status": "completed"
    },
    "tags": []
   },
   "outputs": [
    {
     "data": {
      "text/plain": [
       "<__main__.DataProc at 0x7fbc56df1c50>"
      ]
     },
     "execution_count": 28,
     "metadata": {},
     "output_type": "execute_result"
    }
   ],
   "source": [
    "dp = DataProc(df, customers, articles)\n",
    "dp"
   ]
  },
  {
   "cell_type": "code",
   "execution_count": 29,
   "id": "b3f2cf9a",
   "metadata": {
    "execution": {
     "iopub.execute_input": "2022-03-11T07:19:05.506885Z",
     "iopub.status.busy": "2022-03-11T07:19:05.506282Z",
     "iopub.status.idle": "2022-03-11T07:20:04.303574Z",
     "shell.execute_reply": "2022-03-11T07:20:04.304137Z",
     "shell.execute_reply.started": "2022-03-11T07:13:18.472879Z"
    },
    "papermill": {
     "duration": 58.852069,
     "end_time": "2022-03-11T07:20:04.304323",
     "exception": false,
     "start_time": "2022-03-11T07:19:05.452254",
     "status": "completed"
    },
    "tags": []
   },
   "outputs": [
    {
     "name": "stdout",
     "output_type": "stream",
     "text": [
      "TRAIN SHAPE: (3244558, 5)\n",
      "TEST SHAPE: (3244558, 5)\n",
      "Use ['interaction', 'weights', 'test_df', 'id_to_user', 'id_to_item', 'user_to_id', 'item_to_id', 'item_features', 'user_features'] keys to access data\n",
      "CPU times: user 56.6 s, sys: 2.12 s, total: 58.7 s\n",
      "Wall time: 58.7 s\n"
     ]
    }
   ],
   "source": [
    "%%time\n",
    "result = dp.process_data(finalize=True)\n"
   ]
  },
  {
   "cell_type": "code",
   "execution_count": 30,
   "id": "9517c5bf",
   "metadata": {
    "execution": {
     "iopub.execute_input": "2022-03-11T07:20:04.412473Z",
     "iopub.status.busy": "2022-03-11T07:20:04.411874Z",
     "iopub.status.idle": "2022-03-11T07:20:04.413539Z",
     "shell.execute_reply": "2022-03-11T07:20:04.414124Z",
     "shell.execute_reply.started": "2022-03-11T07:11:55.019069Z"
    },
    "papermill": {
     "duration": 0.058067,
     "end_time": "2022-03-11T07:20:04.414278",
     "exception": false,
     "start_time": "2022-03-11T07:20:04.356211",
     "status": "completed"
    },
    "tags": []
   },
   "outputs": [],
   "source": [
    "# result['test_df']"
   ]
  },
  {
   "cell_type": "code",
   "execution_count": 31,
   "id": "60f6003b",
   "metadata": {
    "execution": {
     "iopub.execute_input": "2022-03-11T07:20:04.521719Z",
     "iopub.status.busy": "2022-03-11T07:20:04.520851Z",
     "iopub.status.idle": "2022-03-11T07:20:04.523557Z",
     "shell.execute_reply": "2022-03-11T07:20:04.524110Z",
     "shell.execute_reply.started": "2022-03-11T07:11:55.025490Z"
    },
    "papermill": {
     "duration": 0.058307,
     "end_time": "2022-03-11T07:20:04.524285",
     "exception": false,
     "start_time": "2022-03-11T07:20:04.465978",
     "status": "completed"
    },
    "tags": []
   },
   "outputs": [],
   "source": [
    "# a = pd.DataFrame(result['item_features'])\n",
    "# a"
   ]
  },
  {
   "cell_type": "code",
   "execution_count": 32,
   "id": "c2d12bb5",
   "metadata": {
    "execution": {
     "iopub.execute_input": "2022-03-11T07:20:04.632245Z",
     "iopub.status.busy": "2022-03-11T07:20:04.631591Z",
     "iopub.status.idle": "2022-03-11T07:20:04.634259Z",
     "shell.execute_reply": "2022-03-11T07:20:04.634781Z",
     "shell.execute_reply.started": "2022-03-11T07:11:55.042614Z"
    },
    "papermill": {
     "duration": 0.057714,
     "end_time": "2022-03-11T07:20:04.634939",
     "exception": false,
     "start_time": "2022-03-11T07:20:04.577225",
     "status": "completed"
    },
    "tags": []
   },
   "outputs": [],
   "source": [
    "# print(len(a.iloc[0].values))\n",
    "# print(a.iloc[0])\n",
    "# print(a.iloc[1])"
   ]
  },
  {
   "cell_type": "code",
   "execution_count": 33,
   "id": "416fa7c9",
   "metadata": {
    "execution": {
     "iopub.execute_input": "2022-03-11T07:20:04.742595Z",
     "iopub.status.busy": "2022-03-11T07:20:04.742011Z",
     "iopub.status.idle": "2022-03-11T07:20:04.744753Z",
     "shell.execute_reply": "2022-03-11T07:20:04.745321Z",
     "shell.execute_reply.started": "2022-03-11T07:11:55.056907Z"
    },
    "papermill": {
     "duration": 0.058103,
     "end_time": "2022-03-11T07:20:04.745478",
     "exception": false,
     "start_time": "2022-03-11T07:20:04.687375",
     "status": "completed"
    },
    "tags": []
   },
   "outputs": [],
   "source": [
    "# b = pd.DataFrame(result['user_features'])\n",
    "# b"
   ]
  },
  {
   "cell_type": "code",
   "execution_count": 34,
   "id": "659ca6ad",
   "metadata": {
    "execution": {
     "iopub.execute_input": "2022-03-11T07:20:04.852597Z",
     "iopub.status.busy": "2022-03-11T07:20:04.851972Z",
     "iopub.status.idle": "2022-03-11T07:20:04.864096Z",
     "shell.execute_reply": "2022-03-11T07:20:04.864623Z",
     "shell.execute_reply.started": "2022-03-11T07:14:54.073719Z"
    },
    "papermill": {
     "duration": 0.06729,
     "end_time": "2022-03-11T07:20:04.864817",
     "exception": false,
     "start_time": "2022-03-11T07:20:04.797527",
     "status": "completed"
    },
    "tags": []
   },
   "outputs": [
    {
     "data": {
      "text/html": [
       "<div>\n",
       "<style scoped>\n",
       "    .dataframe tbody tr th:only-of-type {\n",
       "        vertical-align: middle;\n",
       "    }\n",
       "\n",
       "    .dataframe tbody tr th {\n",
       "        vertical-align: top;\n",
       "    }\n",
       "\n",
       "    .dataframe thead th {\n",
       "        text-align: right;\n",
       "    }\n",
       "</style>\n",
       "<table border=\"1\" class=\"dataframe\">\n",
       "  <thead>\n",
       "    <tr style=\"text-align: right;\">\n",
       "      <th></th>\n",
       "      <th>Detail</th>\n",
       "    </tr>\n",
       "  </thead>\n",
       "  <tbody>\n",
       "    <tr>\n",
       "      <th>Loss</th>\n",
       "      <td>warp</td>\n",
       "    </tr>\n",
       "    <tr>\n",
       "      <th>Learning Rate</th>\n",
       "      <td>0.05</td>\n",
       "    </tr>\n",
       "    <tr>\n",
       "      <th>Latent Factors</th>\n",
       "      <td>50</td>\n",
       "    </tr>\n",
       "    <tr>\n",
       "      <th>Epochs</th>\n",
       "      <td>200</td>\n",
       "    </tr>\n",
       "    <tr>\n",
       "      <th>Threads</th>\n",
       "      <td>32</td>\n",
       "    </tr>\n",
       "    <tr>\n",
       "      <th>Item Regularisation</th>\n",
       "      <td>0.00001</td>\n",
       "    </tr>\n",
       "    <tr>\n",
       "      <th>User Regularisation</th>\n",
       "      <td>0.00001</td>\n",
       "    </tr>\n",
       "    <tr>\n",
       "      <th>Seed</th>\n",
       "      <td>42</td>\n",
       "    </tr>\n",
       "    <tr>\n",
       "      <th>Verbose</th>\n",
       "      <td>True</td>\n",
       "    </tr>\n",
       "  </tbody>\n",
       "</table>\n",
       "</div>"
      ],
      "text/plain": [
       "                      Detail\n",
       "Loss                    warp\n",
       "Learning Rate           0.05\n",
       "Latent Factors            50\n",
       "Epochs                   200\n",
       "Threads                   32\n",
       "Item Regularisation  0.00001\n",
       "User Regularisation  0.00001\n",
       "Seed                      42\n",
       "Verbose                 True"
      ]
     },
     "execution_count": 34,
     "metadata": {},
     "output_type": "execute_result"
    }
   ],
   "source": [
    "rm = RecModel(loss='warp', \n",
    "              lr=0.05, \n",
    "              n_component=50, \n",
    "              n_epoch=200, #40\n",
    "              n_thread=32, \n",
    "              i_alpha=1e-5, \n",
    "              u_alpha=1e-5,\n",
    "#               n=10,\n",
    "#               k=500,\n",
    "#               max_sampled=5,\n",
    "#               learning_schedule='adadelta',\n",
    "#               epsilon=0.08,\n",
    "#               rho=0.85,\n",
    "             )\n",
    "\n",
    "rm.summary()"
   ]
  },
  {
   "cell_type": "code",
   "execution_count": 35,
   "id": "02f6656a",
   "metadata": {
    "execution": {
     "iopub.execute_input": "2022-03-11T07:20:04.976823Z",
     "iopub.status.busy": "2022-03-11T07:20:04.976164Z",
     "iopub.status.idle": "2022-03-11T08:08:50.214340Z",
     "shell.execute_reply": "2022-03-11T08:08:50.214825Z",
     "shell.execute_reply.started": "2022-03-11T07:14:58.761506Z"
    },
    "papermill": {
     "duration": 2925.297478,
     "end_time": "2022-03-11T08:08:50.214989",
     "exception": false,
     "start_time": "2022-03-11T07:20:04.917511",
     "status": "completed"
    },
    "tags": []
   },
   "outputs": [
    {
     "name": "stderr",
     "output_type": "stream",
     "text": [
      "Epoch: 100%|██████████| 200/200 [48:43<00:00, 14.62s/it]\n"
     ]
    }
   ],
   "source": [
    "model = rm.fit_model(interactions=result['interaction'],\n",
    "                     weights=result['weights'],\n",
    "                     item_features=result['item_features'],\n",
    "                     user_features=result['user_features'],\n",
    "                    )"
   ]
  },
  {
   "cell_type": "code",
   "execution_count": 36,
   "id": "3197dccb",
   "metadata": {
    "execution": {
     "iopub.execute_input": "2022-03-11T08:08:50.471966Z",
     "iopub.status.busy": "2022-03-11T08:08:50.471304Z",
     "iopub.status.idle": "2022-03-11T08:08:50.473137Z",
     "shell.execute_reply": "2022-03-11T08:08:50.473717Z",
     "shell.execute_reply.started": "2022-03-11T07:11:55.576000Z"
    },
    "papermill": {
     "duration": 0.133848,
     "end_time": "2022-03-11T08:08:50.473886",
     "exception": false,
     "start_time": "2022-03-11T08:08:50.340038",
     "status": "completed"
    },
    "tags": []
   },
   "outputs": [],
   "source": [
    "def rec(x):\n",
    "    pred = rm.recommend_with_user_id(model=model, \n",
    "                                     user_id=x, \n",
    "                                     user_to_id=result['user_to_id'], \n",
    "                                     item_features=result['item_features'], \n",
    "                                     user_features=result['user_features'], \n",
    "                                     id_to_item=result['id_to_item'])\n",
    "    return ' '.join(i for i in pred)"
   ]
  },
  {
   "cell_type": "code",
   "execution_count": 37,
   "id": "477356e4",
   "metadata": {
    "execution": {
     "iopub.execute_input": "2022-03-11T08:08:50.729198Z",
     "iopub.status.busy": "2022-03-11T08:08:50.728555Z",
     "iopub.status.idle": "2022-03-11T18:54:03.808644Z",
     "shell.execute_reply": "2022-03-11T18:54:03.809488Z",
     "shell.execute_reply.started": "2022-03-11T07:11:55.578182Z"
    },
    "papermill": {
     "duration": 38713.210336,
     "end_time": "2022-03-11T18:54:03.809859",
     "exception": false,
     "start_time": "2022-03-11T08:08:50.599523",
     "status": "completed"
    },
    "tags": []
   },
   "outputs": [
    {
     "data": {
      "application/vnd.jupyter.widget-view+json": {
       "model_id": "3b04dc61e4384f8babc8e6f6e42da6d2",
       "version_major": 2,
       "version_minor": 0
      },
      "text/plain": [
       "  0%|          | 0/1371980 [00:00<?, ?it/s]"
      ]
     },
     "metadata": {},
     "output_type": "display_data"
    }
   ],
   "source": [
    "pred_df = sample_submission.copy()\n",
    "pred_df['prediction'] = pred_df['customer_id'].progress_apply(lambda x: rec(x))"
   ]
  },
  {
   "cell_type": "code",
   "execution_count": 38,
   "id": "0327d032",
   "metadata": {
    "execution": {
     "iopub.execute_input": "2022-03-11T18:54:04.086063Z",
     "iopub.status.busy": "2022-03-11T18:54:04.085383Z",
     "iopub.status.idle": "2022-03-11T18:54:17.354754Z",
     "shell.execute_reply": "2022-03-11T18:54:17.354157Z",
     "shell.execute_reply.started": "2022-03-11T07:11:55.580139Z"
    },
    "papermill": {
     "duration": 13.415672,
     "end_time": "2022-03-11T18:54:17.354917",
     "exception": false,
     "start_time": "2022-03-11T18:54:03.939245",
     "status": "completed"
    },
    "tags": []
   },
   "outputs": [],
   "source": [
    "pred_df.to_csv('submission.csv', index=False)"
   ]
  },
  {
   "cell_type": "code",
   "execution_count": 39,
   "id": "d9306be8",
   "metadata": {
    "execution": {
     "iopub.execute_input": "2022-03-11T18:54:17.924039Z",
     "iopub.status.busy": "2022-03-11T18:54:17.923366Z",
     "iopub.status.idle": "2022-03-11T18:54:17.941264Z",
     "shell.execute_reply": "2022-03-11T18:54:17.941813Z"
    },
    "papermill": {
     "duration": 0.459305,
     "end_time": "2022-03-11T18:54:17.941983",
     "exception": false,
     "start_time": "2022-03-11T18:54:17.482678",
     "status": "completed"
    },
    "tags": []
   },
   "outputs": [
    {
     "data": {
      "text/plain": [
       "customer_id    0\n",
       "prediction     0\n",
       "dtype: int64"
      ]
     },
     "execution_count": 39,
     "metadata": {},
     "output_type": "execute_result"
    }
   ],
   "source": [
    "pred_df.isna().sum()"
   ]
  },
  {
   "cell_type": "code",
   "execution_count": 40,
   "id": "76348816",
   "metadata": {
    "execution": {
     "iopub.execute_input": "2022-03-11T18:54:18.227969Z",
     "iopub.status.busy": "2022-03-11T18:54:18.227172Z",
     "iopub.status.idle": "2022-03-11T18:54:20.736429Z",
     "shell.execute_reply": "2022-03-11T18:54:20.737092Z",
     "shell.execute_reply.started": "2022-03-07T10:34:38.409864Z"
    },
    "papermill": {
     "duration": 2.658473,
     "end_time": "2022-03-11T18:54:20.737273",
     "exception": false,
     "start_time": "2022-03-11T18:54:18.078800",
     "status": "completed"
    },
    "tags": []
   },
   "outputs": [
    {
     "data": {
      "text/plain": [
       "['rec_model.joblib']"
      ]
     },
     "execution_count": 40,
     "metadata": {},
     "output_type": "execute_result"
    }
   ],
   "source": [
    "import joblib\n",
    "joblib.dump(model, 'rec_model.joblib')"
   ]
  },
  {
   "cell_type": "code",
   "execution_count": 41,
   "id": "09153574",
   "metadata": {
    "execution": {
     "iopub.execute_input": "2022-03-11T18:54:21.001637Z",
     "iopub.status.busy": "2022-03-11T18:54:21.000525Z",
     "iopub.status.idle": "2022-03-11T18:54:21.003246Z",
     "shell.execute_reply": "2022-03-11T18:54:21.002609Z",
     "shell.execute_reply.started": "2022-03-07T10:34:38.41105Z"
    },
    "papermill": {
     "duration": 0.136151,
     "end_time": "2022-03-11T18:54:21.003386",
     "exception": false,
     "start_time": "2022-03-11T18:54:20.867235",
     "status": "completed"
    },
    "tags": []
   },
   "outputs": [],
   "source": [
    "# lightfm.evaluation.precision_at_k(model, test_interactions, train_interactions=None, k=10, user_features=None, item_features=None, preserve_rows=False, num_threads=1, check_intersections=True)"
   ]
  },
  {
   "cell_type": "code",
   "execution_count": null,
   "id": "48150d3f",
   "metadata": {
    "papermill": {
     "duration": 0.135634,
     "end_time": "2022-03-11T18:54:21.266808",
     "exception": false,
     "start_time": "2022-03-11T18:54:21.131174",
     "status": "completed"
    },
    "tags": []
   },
   "outputs": [],
   "source": []
  }
 ],
 "metadata": {
  "kernelspec": {
   "display_name": "Python 3",
   "language": "python",
   "name": "python3"
  },
  "language_info": {
   "codemirror_mode": {
    "name": "ipython",
    "version": 3
   },
   "file_extension": ".py",
   "mimetype": "text/x-python",
   "name": "python",
   "nbconvert_exporter": "python",
   "pygments_lexer": "ipython3",
   "version": "3.7.12"
  },
  "papermill": {
   "default_parameters": {},
   "duration": 41871.855133,
   "end_time": "2022-03-11T18:54:24.413383",
   "environment_variables": {},
   "exception": null,
   "input_path": "__notebook__.ipynb",
   "output_path": "__notebook__.ipynb",
   "parameters": {},
   "start_time": "2022-03-11T07:16:32.558250",
   "version": "2.3.3"
  },
  "widgets": {
   "application/vnd.jupyter.widget-state+json": {
    "state": {
     "2280b410eb9e455dae49988b600f72e5": {
      "model_module": "@jupyter-widgets/base",
      "model_module_version": "1.2.0",
      "model_name": "LayoutModel",
      "state": {
       "_model_module": "@jupyter-widgets/base",
       "_model_module_version": "1.2.0",
       "_model_name": "LayoutModel",
       "_view_count": null,
       "_view_module": "@jupyter-widgets/base",
       "_view_module_version": "1.2.0",
       "_view_name": "LayoutView",
       "align_content": null,
       "align_items": null,
       "align_self": null,
       "border": null,
       "bottom": null,
       "display": null,
       "flex": null,
       "flex_flow": null,
       "grid_area": null,
       "grid_auto_columns": null,
       "grid_auto_flow": null,
       "grid_auto_rows": null,
       "grid_column": null,
       "grid_gap": null,
       "grid_row": null,
       "grid_template_areas": null,
       "grid_template_columns": null,
       "grid_template_rows": null,
       "height": null,
       "justify_content": null,
       "justify_items": null,
       "left": null,
       "margin": null,
       "max_height": null,
       "max_width": null,
       "min_height": null,
       "min_width": null,
       "object_fit": null,
       "object_position": null,
       "order": null,
       "overflow": null,
       "overflow_x": null,
       "overflow_y": null,
       "padding": null,
       "right": null,
       "top": null,
       "visibility": null,
       "width": null
      }
     },
     "2db03af87853424e84e910bb64baeb7a": {
      "model_module": "@jupyter-widgets/controls",
      "model_module_version": "1.5.0",
      "model_name": "FloatProgressModel",
      "state": {
       "_dom_classes": [],
       "_model_module": "@jupyter-widgets/controls",
       "_model_module_version": "1.5.0",
       "_model_name": "FloatProgressModel",
       "_view_count": null,
       "_view_module": "@jupyter-widgets/controls",
       "_view_module_version": "1.5.0",
       "_view_name": "ProgressView",
       "bar_style": "success",
       "description": "",
       "description_tooltip": null,
       "layout": "IPY_MODEL_2280b410eb9e455dae49988b600f72e5",
       "max": 1371980.0,
       "min": 0.0,
       "orientation": "horizontal",
       "style": "IPY_MODEL_b576d295534548af8853c294c3d3b15b",
       "value": 1371980.0
      }
     },
     "3a2ee82a65b444a4b84767801c73ab0a": {
      "model_module": "@jupyter-widgets/controls",
      "model_module_version": "1.5.0",
      "model_name": "DescriptionStyleModel",
      "state": {
       "_model_module": "@jupyter-widgets/controls",
       "_model_module_version": "1.5.0",
       "_model_name": "DescriptionStyleModel",
       "_view_count": null,
       "_view_module": "@jupyter-widgets/base",
       "_view_module_version": "1.2.0",
       "_view_name": "StyleView",
       "description_width": ""
      }
     },
     "3b04dc61e4384f8babc8e6f6e42da6d2": {
      "model_module": "@jupyter-widgets/controls",
      "model_module_version": "1.5.0",
      "model_name": "HBoxModel",
      "state": {
       "_dom_classes": [],
       "_model_module": "@jupyter-widgets/controls",
       "_model_module_version": "1.5.0",
       "_model_name": "HBoxModel",
       "_view_count": null,
       "_view_module": "@jupyter-widgets/controls",
       "_view_module_version": "1.5.0",
       "_view_name": "HBoxView",
       "box_style": "",
       "children": [
        "IPY_MODEL_7c4afca8d27d4368800ad77249bdc586",
        "IPY_MODEL_2db03af87853424e84e910bb64baeb7a",
        "IPY_MODEL_6ff69e6192af4428be0b451256033e8f"
       ],
       "layout": "IPY_MODEL_51472ad349cf4046a99091d41a6cda6d"
      }
     },
     "43bb9307a3154326b5cf6d771bdf0716": {
      "model_module": "@jupyter-widgets/controls",
      "model_module_version": "1.5.0",
      "model_name": "DescriptionStyleModel",
      "state": {
       "_model_module": "@jupyter-widgets/controls",
       "_model_module_version": "1.5.0",
       "_model_name": "DescriptionStyleModel",
       "_view_count": null,
       "_view_module": "@jupyter-widgets/base",
       "_view_module_version": "1.2.0",
       "_view_name": "StyleView",
       "description_width": ""
      }
     },
     "51472ad349cf4046a99091d41a6cda6d": {
      "model_module": "@jupyter-widgets/base",
      "model_module_version": "1.2.0",
      "model_name": "LayoutModel",
      "state": {
       "_model_module": "@jupyter-widgets/base",
       "_model_module_version": "1.2.0",
       "_model_name": "LayoutModel",
       "_view_count": null,
       "_view_module": "@jupyter-widgets/base",
       "_view_module_version": "1.2.0",
       "_view_name": "LayoutView",
       "align_content": null,
       "align_items": null,
       "align_self": null,
       "border": null,
       "bottom": null,
       "display": null,
       "flex": null,
       "flex_flow": null,
       "grid_area": null,
       "grid_auto_columns": null,
       "grid_auto_flow": null,
       "grid_auto_rows": null,
       "grid_column": null,
       "grid_gap": null,
       "grid_row": null,
       "grid_template_areas": null,
       "grid_template_columns": null,
       "grid_template_rows": null,
       "height": null,
       "justify_content": null,
       "justify_items": null,
       "left": null,
       "margin": null,
       "max_height": null,
       "max_width": null,
       "min_height": null,
       "min_width": null,
       "object_fit": null,
       "object_position": null,
       "order": null,
       "overflow": null,
       "overflow_x": null,
       "overflow_y": null,
       "padding": null,
       "right": null,
       "top": null,
       "visibility": null,
       "width": null
      }
     },
     "6ff69e6192af4428be0b451256033e8f": {
      "model_module": "@jupyter-widgets/controls",
      "model_module_version": "1.5.0",
      "model_name": "HTMLModel",
      "state": {
       "_dom_classes": [],
       "_model_module": "@jupyter-widgets/controls",
       "_model_module_version": "1.5.0",
       "_model_name": "HTMLModel",
       "_view_count": null,
       "_view_module": "@jupyter-widgets/controls",
       "_view_module_version": "1.5.0",
       "_view_name": "HTMLView",
       "description": "",
       "description_tooltip": null,
       "layout": "IPY_MODEL_81378a11405449cbbebf56eb9dab522f",
       "placeholder": "​",
       "style": "IPY_MODEL_43bb9307a3154326b5cf6d771bdf0716",
       "value": " 1371980/1371980 [10:45:11&lt;00:00, 35.13it/s]"
      }
     },
     "7c4afca8d27d4368800ad77249bdc586": {
      "model_module": "@jupyter-widgets/controls",
      "model_module_version": "1.5.0",
      "model_name": "HTMLModel",
      "state": {
       "_dom_classes": [],
       "_model_module": "@jupyter-widgets/controls",
       "_model_module_version": "1.5.0",
       "_model_name": "HTMLModel",
       "_view_count": null,
       "_view_module": "@jupyter-widgets/controls",
       "_view_module_version": "1.5.0",
       "_view_name": "HTMLView",
       "description": "",
       "description_tooltip": null,
       "layout": "IPY_MODEL_bb83a57eb92248c5b072406cf9a8d397",
       "placeholder": "​",
       "style": "IPY_MODEL_3a2ee82a65b444a4b84767801c73ab0a",
       "value": "100%"
      }
     },
     "81378a11405449cbbebf56eb9dab522f": {
      "model_module": "@jupyter-widgets/base",
      "model_module_version": "1.2.0",
      "model_name": "LayoutModel",
      "state": {
       "_model_module": "@jupyter-widgets/base",
       "_model_module_version": "1.2.0",
       "_model_name": "LayoutModel",
       "_view_count": null,
       "_view_module": "@jupyter-widgets/base",
       "_view_module_version": "1.2.0",
       "_view_name": "LayoutView",
       "align_content": null,
       "align_items": null,
       "align_self": null,
       "border": null,
       "bottom": null,
       "display": null,
       "flex": null,
       "flex_flow": null,
       "grid_area": null,
       "grid_auto_columns": null,
       "grid_auto_flow": null,
       "grid_auto_rows": null,
       "grid_column": null,
       "grid_gap": null,
       "grid_row": null,
       "grid_template_areas": null,
       "grid_template_columns": null,
       "grid_template_rows": null,
       "height": null,
       "justify_content": null,
       "justify_items": null,
       "left": null,
       "margin": null,
       "max_height": null,
       "max_width": null,
       "min_height": null,
       "min_width": null,
       "object_fit": null,
       "object_position": null,
       "order": null,
       "overflow": null,
       "overflow_x": null,
       "overflow_y": null,
       "padding": null,
       "right": null,
       "top": null,
       "visibility": null,
       "width": null
      }
     },
     "b576d295534548af8853c294c3d3b15b": {
      "model_module": "@jupyter-widgets/controls",
      "model_module_version": "1.5.0",
      "model_name": "ProgressStyleModel",
      "state": {
       "_model_module": "@jupyter-widgets/controls",
       "_model_module_version": "1.5.0",
       "_model_name": "ProgressStyleModel",
       "_view_count": null,
       "_view_module": "@jupyter-widgets/base",
       "_view_module_version": "1.2.0",
       "_view_name": "StyleView",
       "bar_color": null,
       "description_width": ""
      }
     },
     "bb83a57eb92248c5b072406cf9a8d397": {
      "model_module": "@jupyter-widgets/base",
      "model_module_version": "1.2.0",
      "model_name": "LayoutModel",
      "state": {
       "_model_module": "@jupyter-widgets/base",
       "_model_module_version": "1.2.0",
       "_model_name": "LayoutModel",
       "_view_count": null,
       "_view_module": "@jupyter-widgets/base",
       "_view_module_version": "1.2.0",
       "_view_name": "LayoutView",
       "align_content": null,
       "align_items": null,
       "align_self": null,
       "border": null,
       "bottom": null,
       "display": null,
       "flex": null,
       "flex_flow": null,
       "grid_area": null,
       "grid_auto_columns": null,
       "grid_auto_flow": null,
       "grid_auto_rows": null,
       "grid_column": null,
       "grid_gap": null,
       "grid_row": null,
       "grid_template_areas": null,
       "grid_template_columns": null,
       "grid_template_rows": null,
       "height": null,
       "justify_content": null,
       "justify_items": null,
       "left": null,
       "margin": null,
       "max_height": null,
       "max_width": null,
       "min_height": null,
       "min_width": null,
       "object_fit": null,
       "object_position": null,
       "order": null,
       "overflow": null,
       "overflow_x": null,
       "overflow_y": null,
       "padding": null,
       "right": null,
       "top": null,
       "visibility": null,
       "width": null
      }
     }
    },
    "version_major": 2,
    "version_minor": 0
   }
  }
 },
 "nbformat": 4,
 "nbformat_minor": 5
}
